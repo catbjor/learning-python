{
 "cells": [
  {
   "cell_type": "markdown",
   "id": "948fb5e4-2122-4df9-bd65-4cd5f27fb902",
   "metadata": {},
   "source": [
    "# <span style=\"color:#66373c;\"><b>BEGINNER</b> <i>- STRINGS</i></span>"
   ]
  },
  {
   "cell_type": "markdown",
   "id": "d1a5762b-509e-4626-ad4f-5d495a2044e5",
   "metadata": {},
   "source": [
    "# <span style=\"color:#c62828; font-weight: bold;\"><b>Understanding Strings in Python</b></span>\n",
    "\n",
    "<p>Strings are an <i><b>essential</b></i> part of Python, and understanding how to work with them is crucial. \n",
    "Below, you'll find an explanation of <b>strings</b>, how to manipulate them and common string operations.</p>"
   ]
  },
  {
   "cell_type": "markdown",
   "id": "65288946-d81a-4e76-97d3-1ff606f64e5e",
   "metadata": {},
   "source": [
    "## <span style=\"color:#c62828;\"><b>1. What are Strings?</b></span>\n",
    "\n",
    "<p>In Python, a string is a sequence of characters enclosed within either single ('') or double (\") quotes. They are used to store text data, such as: </p>\n",
    "\n",
    "- <i>Words</i>\n",
    "\n",
    "- <i>Sentences</i>\n",
    "\n",
    "- <i>Characters</i>"
   ]
  },
  {
   "cell_type": "markdown",
   "id": "b96d1028-4dcc-4f54-b4c7-b987f3d0f06e",
   "metadata": {},
   "source": [
    "### <span style=\"color:#753b41;\"><b>- Declaring Strings</b></span>\n",
    "\n",
    "#### You can declare a string by simply assigning a sequence of characters to a variable, like so:"
   ]
  },
  {
   "cell_type": "code",
   "execution_count": 1,
   "id": "6757216a-241c-4310-9be8-b889423ccd05",
   "metadata": {},
   "outputs": [],
   "source": [
    "# Using single quotes\n",
    "my_string = 'Hello, World!'\n",
    "\n",
    "# Using double quotes \n",
    "greeting = \"Hello, Python!\""
   ]
  },
  {
   "cell_type": "markdown",
   "id": "be4e63d5-cf47-41b1-b737-0f9384b5ec7c",
   "metadata": {},
   "source": [
    "#### Both single and double are used to declare strings in Python. There's <b><i>no functional difference</i></b> between the two, but you can choose whichever is convenient depending on the content of your string. "
   ]
  },
  {
   "cell_type": "markdown",
   "id": "25e439c3-a91d-401d-b7c9-fe11a64915bb",
   "metadata": {},
   "source": [
    "## <span style=\"color:#c62828;\"><b>2. Accessing Characters in a String</b></span>\n",
    "\n",
    "<p>Strings are sequences of characters. You can access individual characters in a string uding <i><b>indexing</b></i>:"
   ]
  },
  {
   "cell_type": "code",
   "execution_count": 2,
   "id": "35eefbf2-e0c3-4c55-81de-7675ef143dfd",
   "metadata": {},
   "outputs": [
    {
     "name": "stdout",
     "output_type": "stream",
     "text": [
      "P\n"
     ]
    }
   ],
   "source": [
    "text = \"Python\"\n",
    "# Access the first character (index 0)\n",
    "print(text[0])       # Output: p "
   ]
  },
  {
   "cell_type": "code",
   "execution_count": 3,
   "id": "64a48114-b8cb-4042-a245-b4c6a76d004f",
   "metadata": {},
   "outputs": [
    {
     "name": "stdout",
     "output_type": "stream",
     "text": [
      "n\n"
     ]
    }
   ],
   "source": [
    "# Access the last character (negative indexing)\n",
    "print(text[-1])       # Output: n  "
   ]
  },
  {
   "cell_type": "markdown",
   "id": "a974315a-6176-498d-8117-87280d157d91",
   "metadata": {},
   "source": [
    "### <span style=\"color:#753b41;\"><b>- String Slicing</b></span>\n",
    "\n",
    "<p>You can also extract a <b>substring</b> from a string using <b><i>slicing</i></b>. Slicing allows you to specify a <b>start</b> and an <b>end</b> index to grab a portion of the string.</p>"
   ]
  },
  {
   "cell_type": "code",
   "execution_count": 5,
   "id": "c2adf0c7-268b-4151-b66c-c771a38f342e",
   "metadata": {},
   "outputs": [
    {
     "name": "stdout",
     "output_type": "stream",
     "text": [
      "Pyt\n"
     ]
    }
   ],
   "source": [
    "text = \"Python\"\n",
    "\n",
    "# Get the substring from index 0 to 3 (not including index 3)\n",
    "substring = text[0:3]\n",
    "print(substring)      # Output: Pyt"
   ]
  },
  {
   "cell_type": "code",
   "execution_count": 11,
   "id": "fc986a90-f5c2-476b-a89c-e79cd03f1cb4",
   "metadata": {},
   "outputs": [
    {
     "name": "stdout",
     "output_type": "stream",
     "text": [
      "llo\n"
     ]
    }
   ],
   "source": [
    "# Get the substring from index 2 to the end\n",
    "substring2 = text[2:]\n",
    "print(substring2)     # Output: thon"
   ]
  },
  {
   "cell_type": "markdown",
   "id": "dc1e1c5f-31ce-4e88-a4d1-9eddcd337135",
   "metadata": {},
   "source": [
    "#### You can leave out the start or end to extract from the **beginning** or to the **end**:\n",
    "\n",
    "- ##### **text[:4]** would give \"Pyth\"\n",
    "- ##### **text[3:]** would give \"hon\""
   ]
  },
  {
   "cell_type": "markdown",
   "id": "77b97a72-92fe-411b-8fa8-36c850c01993",
   "metadata": {},
   "source": [
    "### <span style=\"color:#753b41;\"><b>- String Length</b></span>\n",
    "\n",
    "<p>You can find out how many characters are in a string using the <b>len()</b> function.</p>"
   ]
  },
  {
   "cell_type": "code",
   "execution_count": 12,
   "id": "c436cf96-e70e-4a01-a591-75a783099ad3",
   "metadata": {},
   "outputs": [
    {
     "name": "stdout",
     "output_type": "stream",
     "text": [
      "5\n"
     ]
    }
   ],
   "source": [
    "text = \"Hello\"\n",
    "print(len(text))      # Output: 5"
   ]
  },
  {
   "cell_type": "markdown",
   "id": "263edceb-24df-4e9e-ba78-c649f2a87844",
   "metadata": {},
   "source": [
    "## <span style=\"color:#c62828;\"><b>3. Multiline Strings</b></span>\n",
    "\n",
    "<p>To create a string that spans multiple lines, you can use triple quotes <b>(''' or \"\"\")</b>:</p>"
   ]
  },
  {
   "cell_type": "code",
   "execution_count": 13,
   "id": "75b23204-be51-4991-afcb-231611ac0676",
   "metadata": {},
   "outputs": [
    {
     "name": "stdout",
     "output_type": "stream",
     "text": [
      "This is \n",
      "a string\n",
      "on multiple lines\n"
     ]
    }
   ],
   "source": [
    "multiline_strings = '''This is \n",
    "a string\n",
    "on multiple lines'''\n",
    "print(multiline_strings)"
   ]
  },
  {
   "cell_type": "markdown",
   "id": "0772db5e-d617-4ed4-a6dd-0ae292bcd7a1",
   "metadata": {},
   "source": [
    "## <span style=\"color:#c62828;\"><b>4. Strings Innutability</b></span>\n",
    "\n",
    "<p>Strings in Python are <b>immutable</b> whch means that once a string is created, you <i>cannot</i> the individual characters in it. For example, the following code will result in an <b>error</b>:</p>"
   ]
  },
  {
   "cell_type": "code",
   "execution_count": 14,
   "id": "7ff34f2a-9a7b-4bb5-a292-50287bda098f",
   "metadata": {},
   "outputs": [
    {
     "ename": "TypeError",
     "evalue": "'str' object does not support item assignment",
     "output_type": "error",
     "traceback": [
      "\u001b[1;31m---------------------------------------------------------------------------\u001b[0m",
      "\u001b[1;31mTypeError\u001b[0m                                 Traceback (most recent call last)",
      "Cell \u001b[1;32mIn[14], line 2\u001b[0m\n\u001b[0;32m      1\u001b[0m text \u001b[38;5;241m=\u001b[39m \u001b[38;5;124m\"\u001b[39m\u001b[38;5;124mHello\u001b[39m\u001b[38;5;124m\"\u001b[39m\n\u001b[1;32m----> 2\u001b[0m text[\u001b[38;5;241m0\u001b[39m] \u001b[38;5;241m=\u001b[39m \u001b[38;5;124m\"\u001b[39m\u001b[38;5;124mh\u001b[39m\u001b[38;5;124m\"\u001b[39m\n",
      "\u001b[1;31mTypeError\u001b[0m: 'str' object does not support item assignment"
     ]
    }
   ],
   "source": [
    "text = \"Hello\"\n",
    "text[0] = \"h\"   # This will raise an error"
   ]
  },
  {
   "cell_type": "markdown",
   "id": "e981b3c9-4e28-4a4a-b86d-be0baa8dc176",
   "metadata": {},
   "source": [
    "<p>Instead of modifying a string directly, you can create a new string by performing operations like <b>concatenation</b> or <b>slicing</b>."
   ]
  },
  {
   "cell_type": "code",
   "execution_count": 15,
   "id": "70178cc7-e165-40b1-9a55-2fac5141b636",
   "metadata": {},
   "outputs": [
    {
     "name": "stdout",
     "output_type": "stream",
     "text": [
      "Hello, Cathrine\n"
     ]
    }
   ],
   "source": [
    "greeting = 'Hello'\n",
    "name = \"Cathrine\"\n",
    "full_greeting = greeting + \", \" + name\n",
    "print(full_greeting)      # Output: Hello, Cathrine"
   ]
  },
  {
   "cell_type": "markdown",
   "id": "90567ba1-1e14-4806-9493-4f09cef7905f",
   "metadata": {},
   "source": [
    "- ### <b>Repetition</b> (repeats a string multiple times)"
   ]
  },
  {
   "cell_type": "code",
   "execution_count": 17,
   "id": "5e72f17e-bf5e-469a-9021-a092c62ca28a",
   "metadata": {},
   "outputs": [
    {
     "name": "stdout",
     "output_type": "stream",
     "text": [
      "Python! Python! Python! \n"
     ]
    }
   ],
   "source": [
    "repeat_text = \"Python! \" * 3\n",
    "print(repeat_text)     # Output: Python! Python! Python!"
   ]
  },
  {
   "cell_type": "markdown",
   "id": "af94308f-4f81-4e94-b0f0-5337a4686a42",
   "metadata": {},
   "source": [
    "- ### Checking if a string contains another string:"
   ]
  },
  {
   "cell_type": "code",
   "execution_count": 18,
   "id": "03ae6c46-4734-49f9-8ea9-9572cc98a0a7",
   "metadata": {},
   "outputs": [
    {
     "name": "stdout",
     "output_type": "stream",
     "text": [
      "True\n"
     ]
    }
   ],
   "source": [
    "text = \"Python is awesome\"\n",
    "print(\"Python\" in text)\n",
    "# Output: True"
   ]
  },
  {
   "cell_type": "markdown",
   "id": "a8484ad4-566d-4df0-9b6b-3c2984fd6f37",
   "metadata": {},
   "source": [
    "## <span style=\"color:#c62828;\"><b>5. Escaping Characters</b></span>\n",
    "\n",
    "<p>Sometimes you might want to include special characters in a string (like newlines or quotes). To do this, you can use <b>escape characters</b>, which are represented by a backslash <b>(\\)</b>.</p>\n",
    "\n",
    "- #### <i><b>\\n</b> for newline</i>\n",
    "- #### <i><b>\\t</b> for tab</i>\n",
    "- #### <i><b>\\ '</b> for single quote</i>\n",
    "- #### <i><b>\\ \"</b> for double quote</i>\n",
    "- #### <i><b>\\ \\</b> for backslash</i>"
   ]
  },
  {
   "cell_type": "code",
   "execution_count": 20,
   "id": "0fa0e69c-d773-4acd-b1d7-d274fe6baf42",
   "metadata": {},
   "outputs": [
    {
     "name": "stdout",
     "output_type": "stream",
     "text": [
      "Hello\n",
      "World\n"
     ]
    }
   ],
   "source": [
    "text = \"Hello\\nWorld\"\n",
    "print(text)\n",
    "#Output:\n",
    "# Hello \n",
    "#World"
   ]
  }
 ],
 "metadata": {
  "kernelspec": {
   "display_name": "Python 3 (ipykernel)",
   "language": "python",
   "name": "python3"
  },
  "language_info": {
   "codemirror_mode": {
    "name": "ipython",
    "version": 3
   },
   "file_extension": ".py",
   "mimetype": "text/x-python",
   "name": "python",
   "nbconvert_exporter": "python",
   "pygments_lexer": "ipython3",
   "version": "3.12.7"
  }
 },
 "nbformat": 4,
 "nbformat_minor": 5
}
