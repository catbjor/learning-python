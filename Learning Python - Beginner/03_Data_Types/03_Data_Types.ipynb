{
 "cells": [
  {
   "cell_type": "markdown",
   "id": "f21bdeb8-7a5b-4742-b626-e1388e6724b1",
   "metadata": {},
   "source": [
    "# <span style=\"color:#66373c;\"><b>BEGINNER</b> <i>- DATA TYPES</i></span>"
   ]
  },
  {
   "cell_type": "markdown",
   "id": "8ec1d630-222b-4b7d-91a9-f6db7c4a7a44",
   "metadata": {},
   "source": [
    "## <span style=\"color:#c62828;\"><b>1. What are Data Types?</b></span>\n",
    "\n",
    "<p>In Python, <b>data types</b> represents the kind of value a variable can hold.Each variable in Python is associated with a specific data type, which tells the interpreter how to handle that variable.\n",
    "\n",
    "The <b>most common data types</b> in Python are:\n",
    "- <b>Integers:</b> Whole numbers (positive, negative, or zero)\n",
    "- <b>Floats:</b> Numbers with decimal points.\n",
    "- <b>Strings:</b> A string of characters enclosed in quotes.\n",
    "- <b>Booleans:</b> A data type representing either <b>True</b> or <b>False</b></p>"
   ]
  },
  {
   "cell_type": "markdown",
   "id": "328cb93d-18f9-4b38-bc99-802e50479421",
   "metadata": {},
   "source": [
    "## <span style=\"color:#c62828;\"><b>1. Basic Data Types in Python</b></span>\n",
    "\n",
    "#### <span style=\"color:#753b41;\"><b><i>Integers (int)</i></b></span>\n",
    "\n",
    "<p>An integer is a whole number, which can be positive, negative, or zero. Integers don't have a decimal point. \n",
    "\n",
    "<i><b>Example:</b></i></p>"
   ]
  },
  {
   "cell_type": "code",
   "execution_count": 57,
   "id": "9cba43af-ea1a-4adf-b059-4589b9980b38",
   "metadata": {},
   "outputs": [],
   "source": [
    "x = 10   # Positive integer\n",
    "x = -5   # Negative integer\n",
    "z = 0    # Zero"
   ]
  },
  {
   "cell_type": "markdown",
   "id": "dc639a36-4340-4ca2-9e8f-439a1282812c",
   "metadata": {},
   "source": [
    "#### <span style=\"color:#753b41;\"><b><i>Floats (float)</i></b></span>\n",
    "\n",
    "<p>A float represents a number that has a decimal point. They are used when more precision is needed.\n",
    "\n",
    "<i><b>Example:</b></i></p>"
   ]
  },
  {
   "cell_type": "code",
   "execution_count": 58,
   "id": "d23b4cb8-13b1-40a8-9a9b-4c8c935fb736",
   "metadata": {},
   "outputs": [],
   "source": [
    "x = 3.14   # Positive float\n",
    "y = -2.71  # Negative float"
   ]
  },
  {
   "cell_type": "markdown",
   "id": "4c81524b-af57-4c2e-8573-68da1ba7386c",
   "metadata": {},
   "source": [
    "#### <span style=\"color:#753b41;\"><b><i>Strings (str)</i></b></span>\n",
    "\n",
    "<p>A string is a sequence of characters enclosed in either single quotes <b>(') or (\")</b>. Strings can contain letters, numbers, spaces, and other special characters. \n",
    "\n",
    "<i><b>Example:</b></i></p>"
   ]
  },
  {
   "cell_type": "code",
   "execution_count": 59,
   "id": "d1b47ed7-c564-4014-9430-cf8b15d06aba",
   "metadata": {},
   "outputs": [],
   "source": [
    "name = \"Fiona\"       # String with double quotes\n",
    "greeting = 'Hello'   # String with single quotes"
   ]
  },
  {
   "cell_type": "markdown",
   "id": "76e029a2-c0c3-4b9a-a566-56092b5c7e3a",
   "metadata": {},
   "source": [
    "#### <span style=\"color:#753b41;\"><b><i>Booleans (bool)</i></b></span>\n",
    "\n",
    "<p>A boolean represents either <b>True</b> or <b>False</b>. This type is typically used in conditional statements or logical operations. \n",
    "\n",
    "<i><b>Example:</b></i></p>"
   ]
  },
  {
   "cell_type": "code",
   "execution_count": 60,
   "id": "2b896031-0250-4dcd-bd43-9709cc9b7682",
   "metadata": {},
   "outputs": [],
   "source": [
    "is_active = True      # Boolean value\n",
    "is_logged_in = False  # Boolean value"
   ]
  },
  {
   "cell_type": "markdown",
   "id": "f3c16465-8530-400b-a4c0-04bfe70b9e9e",
   "metadata": {},
   "source": [
    "## <span style=\"color:#c62828;\"><b>3. Type Conversion</b></span>\n",
    "\n",
    "<p>Python allows you to convert one data type to another. This process is called <b>type conversion</b>\n",
    "\n",
    "#### <span style=\"color:#753b41;\"><b><i>- Implicit Type Conversion (Automatic Conversion)</i></b></span>\n",
    "\n",
    "<p>Python automatically converts one data to another when it's necessary. This is called <b>implicit conversion</b> or <b>type coercion</b>. \n",
    "\n",
    "<i><b>Example:</b></i></p>"
   ]
  },
  {
   "cell_type": "code",
   "execution_count": 61,
   "id": "1e9af091-9e85-4ce8-82b1-818357913778",
   "metadata": {},
   "outputs": [
    {
     "name": "stdout",
     "output_type": "stream",
     "text": [
      "7.5\n"
     ]
    }
   ],
   "source": [
    "x = 5             # Integer\n",
    "y = 2.5           # Float\n",
    "result = x + y    # Python automatically converts x to a float\n",
    "print(result)     # Output: 7.5 (float)"
   ]
  },
  {
   "cell_type": "markdown",
   "id": "0a656a16-25a2-42bf-9201-14c1be9ca89a",
   "metadata": {},
   "source": [
    "#### <span style=\"color:#753b41;\"><b><i>- Explicit Type Conversion (Manual Conversion)</i></b></span>\n",
    "\n",
    "<p>Sometimes you may want to convert a value from one type to another manually. You can use functions like <b>int(), float(), and str()</b> for explicit conversion.\n",
    "\n",
    "<i><b>Example:</b></i></p>"
   ]
  },
  {
   "cell_type": "code",
   "execution_count": 62,
   "id": "94ff4b22-d662-461c-bc31-11bfdb67b021",
   "metadata": {},
   "outputs": [
    {
     "name": "stdout",
     "output_type": "stream",
     "text": [
      "123\n"
     ]
    }
   ],
   "source": [
    "x = \"123\"   # String\n",
    "y = int(x)  # Converting string to integer\n",
    "print(y)    # Output: 123"
   ]
  },
  {
   "cell_type": "code",
   "execution_count": 63,
   "id": "81a09452-b4b3-47c1-8857-951fbfdfecc4",
   "metadata": {},
   "outputs": [
    {
     "name": "stdout",
     "output_type": "stream",
     "text": [
      "3\n"
     ]
    }
   ],
   "source": [
    "z = 3.14    # Float\n",
    "w = int(z)  # Converting float to integer (removes decimal part)\n",
    "print(w)    # Output: 3"
   ]
  },
  {
   "cell_type": "markdown",
   "id": "e3e6037c-3a07-42d7-b733-065cebbaaec2",
   "metadata": {},
   "source": [
    "#### <span style=\"color:#753b41;\"><b><i>- Converting Between Data Types</i></b></span>\n",
    "\n",
    "<p>You can also convert between other types. \n",
    "Here's an example of converting a float to a string and a string to a float.\n",
    "    \n",
    "<i><b>Example:</b></i></p>"
   ]
  },
  {
   "cell_type": "code",
   "execution_count": 64,
   "id": "b05c3cdd-c3e2-4542-bcc0-d522197dd5c6",
   "metadata": {},
   "outputs": [
    {
     "name": "stdout",
     "output_type": "stream",
     "text": [
      "5.67\n"
     ]
    }
   ],
   "source": [
    "x = 5.67     # Float\n",
    "y = str(x)   # Converting float to string\n",
    "print(y)     # Output: \"5.67\""
   ]
  },
  {
   "cell_type": "code",
   "execution_count": 65,
   "id": "a9944337-585b-40b7-a5fd-249dc315ff00",
   "metadata": {},
   "outputs": [
    {
     "name": "stdout",
     "output_type": "stream",
     "text": [
      "3.14\n"
     ]
    }
   ],
   "source": [
    "z = \"3.14\"    # float\n",
    "w = float(z)  # Converting string to float\n",
    "print(w)      # Output: 3.14"
   ]
  },
  {
   "cell_type": "markdown",
   "id": "6f53cae9-8755-4029-afb3-bb8e257f0726",
   "metadata": {},
   "source": [
    "## <span style=\"color:#c62828;\"><b>4. Type Checking</b></span>\n",
    "\n",
    "<p>You can check the type of a variable using the <b>built-in () function</b>. This can be helpful when debugging or ensuring that your variables hold the correct data types.</b>\n",
    "\n",
    "<i><b>Example:</b></i></p>"
   ]
  },
  {
   "cell_type": "code",
   "execution_count": 66,
   "id": "d0d2cc48-88b1-4292-a315-bc1befa48f20",
   "metadata": {},
   "outputs": [
    {
     "name": "stdout",
     "output_type": "stream",
     "text": [
      "<class 'int'>\n",
      "<class 'float'>\n",
      "<class 'str'>\n"
     ]
    }
   ],
   "source": [
    "x = 10\n",
    "print(type(x))    # Output: <class 'int'>\n",
    "\n",
    "y = 3.14\n",
    "print(type(y))    # Output: <class 'float'>\n",
    "\n",
    "z = \"Hello\"\n",
    "print(type(z))    # Outout: <class 'str'>"
   ]
  },
  {
   "cell_type": "markdown",
   "id": "9278eb75-1638-4883-a9fd-22c41f0b2294",
   "metadata": {},
   "source": [
    "<p>You can also use <b>isinstance()</b> to check if an object is of a specific type.</b>\n",
    "\n",
    "<i><b>Example:</b></i></p>"
   ]
  },
  {
   "cell_type": "code",
   "execution_count": 67,
   "id": "f4c354b0-3d78-4ebd-b7cd-75e13a418abc",
   "metadata": {},
   "outputs": [
    {
     "name": "stdout",
     "output_type": "stream",
     "text": [
      "True\n"
     ]
    }
   ],
   "source": [
    "x = 10\n",
    "print(isinstance(x, int))    # Output: True"
   ]
  },
  {
   "cell_type": "markdown",
   "id": "dd820650-6a83-43f9-90a7-471963554417",
   "metadata": {},
   "source": [
    "## <span style=\"color:#c62828;\"><b>5. Other Data Type (Advanced)</b></span>\n",
    "\n",
    "#### <span style=\"color:#753b41;\"><b><i>- Lists</i></b></span>\n",
    "\n",
    "<p>A list is an <b>ordered collection of items</b>, which can be of different data types. Lists are <i>mutable</i>, meaning their contents can be changed.</b>\n",
    "\n",
    "<i><b>Example:</b></i></p>"
   ]
  },
  {
   "cell_type": "code",
   "execution_count": 68,
   "id": "8147324d-205f-4099-81a4-bb4b7186d882",
   "metadata": {},
   "outputs": [
    {
     "name": "stdout",
     "output_type": "stream",
     "text": [
      "['orange juice', 'tea', 'soda', 'water']\n"
     ]
    }
   ],
   "source": [
    "drinks = [\"coffee\", \"tea\", \"soda\", \"water\"]\n",
    "drinks[0] = \"orange juice\"       # Changing the first item\n",
    "print(drinks)                    # Output: ['orange juice', 'tea', 'soda', 'water']"
   ]
  },
  {
   "cell_type": "markdown",
   "id": "ab783210-218f-4144-b85d-4ee2d01fec6b",
   "metadata": {},
   "source": [
    "#### <span style=\"color:#753b41;\"><b><i>- Tuples</i></b></span>\n",
    "\n",
    "<p>A <b>tuple</b> is similar to lists, but it is <i>immutable</i>, meaning once it's created, it <b><i>cannot</i></b> be changed. Tuples are typically used for data that shouldn't be modified.</b>\n",
    "\n",
    "<i><b>Example:</b></i></p>"
   ]
  },
  {
   "cell_type": "code",
   "execution_count": 69,
   "id": "31641115-74bb-4181-9cb7-77f5eb6ea881",
   "metadata": {},
   "outputs": [
    {
     "name": "stdout",
     "output_type": "stream",
     "text": [
      "(1, 2)\n"
     ]
    }
   ],
   "source": [
    "coordinates = (1, 2)\n",
    "print(coordinates)    # Output: (1, 2)"
   ]
  },
  {
   "cell_type": "markdown",
   "id": "138eba75-5f6a-4818-9f6e-b8bfcf64bd4f",
   "metadata": {},
   "source": [
    "#### <span style=\"color:#753b41;\"><b><i>- Dictionaries</i></b></span>\n",
    "\n",
    "<p>A <b>dictionary</b> is an unordered collection of <b>key-value pairs</b>. Each key is unique, and you can use keys to access corresponding values.\n",
    "\n",
    "<i><b>Example:</b></i></p>"
   ]
  },
  {
   "cell_type": "code",
   "execution_count": 70,
   "id": "da92d6a1-60b9-4b63-ab29-e6d80489dd1a",
   "metadata": {},
   "outputs": [
    {
     "name": "stdout",
     "output_type": "stream",
     "text": [
      "Henrietta\n"
     ]
    }
   ],
   "source": [
    "person = {\"name\": \"Henrietta\", \"age\": 31}\n",
    "print(person[\"name\"])     # Output: Henrietta"
   ]
  },
  {
   "cell_type": "markdown",
   "id": "726ed95f-a3d9-44d6-812a-b64a11842556",
   "metadata": {},
   "source": [
    "#### <span style=\"color:#753b41;\"><b><i>- Sets</i></b></span>\n",
    "\n",
    "<p>A <b>set</b> is an unordered collection of unique elements. Sets are often used when you want to store items without duplicates.\n",
    "\n",
    "<i><b>Example:</b></i></p>"
   ]
  },
  {
   "cell_type": "code",
   "execution_count": 71,
   "id": "3a3e3fdb-25fa-40b0-82bf-748152682bda",
   "metadata": {},
   "outputs": [
    {
     "name": "stdout",
     "output_type": "stream",
     "text": [
      "{1, 2, 3, 4, 5, 6, 7, 8, 9}\n"
     ]
    }
   ],
   "source": [
    "numbers = {1, 2, 3, 4, 4, 5, 6, 7, 8, 8, 9}\n",
    "print(numbers)       # {1, 2, 3, 4, 5, 6, 7, 8, 9}"
   ]
  },
  {
   "cell_type": "markdown",
   "id": "b1df0bdb-befe-48ad-b5eb-cf668b3e0edd",
   "metadata": {},
   "source": [
    "## <span style=\"color:#c62828;\"><b>6. Mutable vs Immutable Data Types</b></span>\n",
    "\n",
    "- #### <b>Mutable:</b> Data types whose values can be changed after creation. Examples include lists, dictionaries, and sets.\n",
    "- #### <b>Immutable:</b> Data types whose values cannot be changed after creation. Examples include integers, floats, strings and tuples.\n",
    "\n",
    "| Data Type | Description                            | Example                          |\n",
    "|-----------|----------------------------------------|----------------------------------|\n",
    "| `int`    | Integer (whole number)                | `x = 10`                        |\n",
    "| `float`  | Floating-point number (decimal)       | `y = 3.14`                      |\n",
    "| `str`    | String (sequence of characters)       | `name = \"Alice\"`                |\n",
    "| `bool`   | Boolean (`True` or `False`)           | `is_active = True`              |\n",
    "| `list`   | Ordered collection (mutable)          | `fruits = [\"apple\", \"banana\"]`  |\n",
    "| `tuple`  | Ordered collection (immutable)        | `coordinates = (1, 2)`          |\n",
    "| `dict`   | Key-value pairs (unordered, mutable)  | `person = {\"name\": \"Alice\"}`    |\n",
    "| `set`    | Unordered collection of unique items | `numbers = {1, 2, 3}`           |\n"
   ]
  },
  {
   "cell_type": "code",
   "execution_count": null,
   "id": "f4cf5e65-4051-441e-bf9a-9693ea67ae63",
   "metadata": {},
   "outputs": [],
   "source": []
  },
  {
   "cell_type": "code",
   "execution_count": null,
   "id": "8573a337-6e95-47af-9368-1175a7662540",
   "metadata": {},
   "outputs": [],
   "source": []
  },
  {
   "cell_type": "code",
   "execution_count": null,
   "id": "9e1ea596-783d-43ee-a259-ade88f8245d5",
   "metadata": {},
   "outputs": [],
   "source": []
  }
 ],
 "metadata": {
  "kernelspec": {
   "display_name": "Python 3 (ipykernel)",
   "language": "python",
   "name": "python3"
  },
  "language_info": {
   "codemirror_mode": {
    "name": "ipython",
    "version": 3
   },
   "file_extension": ".py",
   "mimetype": "text/x-python",
   "name": "python",
   "nbconvert_exporter": "python",
   "pygments_lexer": "ipython3",
   "version": "3.12.7"
  }
 },
 "nbformat": 4,
 "nbformat_minor": 5
}
