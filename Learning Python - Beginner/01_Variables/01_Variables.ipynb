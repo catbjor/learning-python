{
 "cells": [
  {
   "cell_type": "markdown",
   "metadata": {},
   "source": [
    "# <span style=\"color: #66373c; font-weight: bold;\">BEGINNER - VARIABLES</span>"
   ]
  },
  {
   "cell_type": "markdown",
   "metadata": {},
   "source": [
    "# <span style=\"color: #a56a6f;\">**1. What is a variable?**</span>\n",
    "\n",
    "## A variable is like a container that holds a value. You can think of it as a label for a piece of data.\n",
    "\n",
    "### <span style=\"color: #ffd6a5;\">**Assigning a value to a variable**</span> \n",
    "\n",
    "#### In Python, you assign a value to a variable using the = sign. "
   ]
  },
  {
   "cell_type": "code",
   "execution_count": 17,
   "metadata": {},
   "outputs": [],
   "source": [
    "# Example:\n",
    "\n",
    "x = 5\n",
    "\n",
    "# This assigns the value to the variable x."
   ]
  },
  {
   "cell_type": "markdown",
   "metadata": {},
   "source": [
    "# <span style=\"color: #a56a6f;\">**2. Naming Variables**</span>\n",
    "\n",
    "- #### Variable names must start with a letter or an underscore (_).\n",
    "\n",
    "- #### They can contain letters, numbers, and underscores but cannot start with a number.\n",
    "\n",
    "- #### Python is case-sensitive, so **name, Name, and NAME** would all be different variables."
   ]
  },
  {
   "cell_type": "markdown",
   "metadata": {},
   "source": [
    "# <span style=\"color: #a56a6f;\">**3. Syntax**</span>"
   ]
  },
  {
   "cell_type": "code",
   "execution_count": 18,
   "metadata": {},
   "outputs": [],
   "source": [
    "# Assigning a value to a variable\n",
    "\n",
    "x = 5                  # Integer assignment\n",
    "name = \"Cathrine\"      # String assignment\n",
    "is_active = True       # Boolean assignment\n"
   ]
  },
  {
   "cell_type": "markdown",
   "metadata": {},
   "source": [
    "## <span style=\"color: #eec76b;\">**Examples**</span>"
   ]
  },
  {
   "cell_type": "code",
   "execution_count": 19,
   "metadata": {},
   "outputs": [
    {
     "name": "stdout",
     "output_type": "stream",
     "text": [
      "10\n"
     ]
    }
   ],
   "source": [
    "# Example 1: Assigning a value to a variable\n",
    "x = 10\n",
    "print(x)       # Output: 10"
   ]
  },
  {
   "cell_type": "code",
   "execution_count": 20,
   "metadata": {},
   "outputs": [
    {
     "name": "stdout",
     "output_type": "stream",
     "text": [
      "12\n"
     ]
    }
   ],
   "source": [
    "# Example 2: Using variables in calculations\n",
    "a = 5\n",
    "b = 7\n",
    "result = a + b\n",
    "print(result)           # Output: 12"
   ]
  },
  {
   "cell_type": "code",
   "execution_count": 15,
   "metadata": {},
   "outputs": [
    {
     "name": "stdout",
     "output_type": "stream",
     "text": [
      "John is 25 years old.\n"
     ]
    }
   ],
   "source": [
    "# Example 3: Working with different data types\n",
    "name = \"John\"\n",
    "age = 25\n",
    "print(name + \" is \" + str(age) + \" years old.\")      # Output: John is 25 years olc."
   ]
  },
  {
   "cell_type": "markdown",
   "metadata": {},
   "source": [
    "# <span style=\"color: #a56a6f;\">**4. Common Errors**</span>\n",
    "\n",
    "### **Error:** NameError: name 'x' is not defined\n",
    "\n",
    "-  ####  <i>**Cause:**<i/> Trying to use a variable before assigning a value to it.\n",
    "-  ####  <i>**Fix:**<i/> Make sure to assign a value to your variable before using it.\n",
    "\n",
    "### **Error**: SyntaxError: invalid syntax\n",
    "\n",
    "- ### <I>Cause:<i/> Using a variable name incorrectly, like starting with a number (e.g., 1name = \"Alice\").\n",
    "\n",
    "- ### <i>Fix:<i/> Remember variable names must start with a letter or underscore, **NOT** a number."
   ]
  },
  {
   "cell_type": "markdown",
   "metadata": {},
   "source": [
    "# <span style=\"color: #5d9db9;\">**Documentation**</span>"
   ]
  },
  {
   "cell_type": "markdown",
   "metadata": {},
   "source": [
    "### Here are some useful links:"
   ]
  },
  {
   "cell_type": "markdown",
   "metadata": {},
   "source": [
    "- ### [Python Official Documentation](https://docs.python.org/3/) \n",
    "- ### [Python Variables Documentation](https://docs.python.org/3/tutorial/introduction.html#variables)\n",
    "- ### [Python List Documentation](https://docs.python.org/3/tutorial/datastructures.html#more-on-lists)"
   ]
  },
  {
   "cell_type": "code",
   "execution_count": null,
   "metadata": {},
   "outputs": [],
   "source": []
  }
 ],
 "metadata": {
  "kernelspec": {
   "display_name": "Python 3 (ipykernel)",
   "language": "python",
   "name": "python3"
  },
  "language_info": {
   "codemirror_mode": {
    "name": "ipython",
    "version": 3
   },
   "file_extension": ".py",
   "mimetype": "text/x-python",
   "name": "python",
   "nbconvert_exporter": "python",
   "pygments_lexer": "ipython3",
   "version": "3.11.0"
  },
  "widgets": {
   "application/vnd.jupyter.widget-state+json": {
    "state": {},
    "version_major": 2,
    "version_minor": 0
   }
  }
 },
 "nbformat": 4,
 "nbformat_minor": 4
}
