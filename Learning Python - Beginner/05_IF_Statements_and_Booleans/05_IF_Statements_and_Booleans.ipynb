{
 "cells": [
  {
   "cell_type": "markdown",
   "id": "4566e37c-9ae4-4135-9bfb-0b880683b3f1",
   "metadata": {},
   "source": [
    "# <span style=\"color:#66373c;\"><b>BEGINNER</b> <i>- IF STATEMENTS & BOOLEANS</i></span>"
   ]
  },
  {
   "cell_type": "markdown",
   "id": "9038118d-3b23-4998-a000-41b725e8890c",
   "metadata": {},
   "source": [
    "## <span style=\"color:#c62828;\"><b>1. What are IF Statements</b></span>\n",
    "\n",
    "<p><b>IF Statements</b> ares used to make decisions in Python. They let your program execute certain blocks of code only if a specific condition is true. \n",
    "\n",
    "Think <b><i>If This - Then That</i></b>.</p>"
   ]
  },
  {
   "cell_type": "markdown",
   "id": "5a3305b3-b78e-4c5e-9131-ae3fdfdfa623",
   "metadata": {},
   "source": [
    "#### <span style=\"color:#753b41;\"><b><i>Basic Syntax</i></b></span>\n",
    "\n",
    "<p>'''python\n",
    "if condition:\n",
    "   # code to execute if\n",
    "   condition is True\n",
    "\n",
    "<i><b>Example:</b></i></p>"
   ]
  },
  {
   "cell_type": "code",
   "execution_count": 1,
   "id": "afdea167-2205-4790-b4bd-fad3d71da02a",
   "metadata": {},
   "outputs": [
    {
     "name": "stdout",
     "output_type": "stream",
     "text": [
      "You are an adult.\n"
     ]
    }
   ],
   "source": [
    "age = 18 \n",
    "if age >= 18:\n",
    "    print(\"You are an adult.\")"
   ]
  },
  {
   "cell_type": "markdown",
   "id": "1e8e9475-df9a-4d8d-b6c2-5a5450f1b9d6",
   "metadata": {},
   "source": [
    "## <span style=\"color:#c62828;\"><b>2. What are Booleans?</b></span>\n",
    "\n",
    "<p>A <b>Boolean</b> represents one of two values: <b>True</b> or <b>False</b>.\n",
    "\n",
    "<i><b>Example:</b></i></p>"
   ]
  },
  {
   "cell_type": "code",
   "execution_count": 3,
   "id": "3f4cf705-1d9e-4df5-81e9-3f3f4e953dd7",
   "metadata": {},
   "outputs": [
    {
     "name": "stdout",
     "output_type": "stream",
     "text": [
      "Don't forget your umbrella!\n"
     ]
    }
   ],
   "source": [
    "is_raining = True\n",
    "if is_raining:\n",
    "    print(\"Don't forget your umbrella!\")"
   ]
  },
  {
   "cell_type": "markdown",
   "id": "286fe2c2-e734-4332-91b8-043e8cc24e2a",
   "metadata": {},
   "source": [
    "### <span style=\"color:#c62828;\"><b>Comparison Operators</b></span>\n",
    "\n",
    "- ##### <b>==</b> (<i>equal to</i>) \n",
    "- ##### <b>!=</b> (<i>not equal to</i>)\n",
    "- ##### <b>></b> (<i>greater than</i>)\n",
    "- ##### <b><</b> (<i>less than</i>)\n",
    "- ##### <b>>=</b> (<i>greater than or equal to</i>)\n",
    "- ##### <b><=</b> (<i>less than or equal to</i>)\n",
    "\n",
    "### <span style=\"color:#c62828;\"><b>Logical Operators</b></span>\n",
    "\n",
    "- ##### <b>and</b> - both conditions must be true\n",
    "- ##### <b>or</b> - at least one condition must be true\n",
    "- ##### <b>not</b>- reverses the result (True becomes False, and vice versa)\n",
    "<i><b>Example:</b></i></p>"
   ]
  },
  {
   "cell_type": "code",
   "execution_count": 4,
   "id": "e26b6569-e40c-4379-84ff-0186503b434a",
   "metadata": {},
   "outputs": [
    {
     "name": "stdout",
     "output_type": "stream",
     "text": [
      "You can enter the concert!\n"
     ]
    }
   ],
   "source": [
    "age = 20\n",
    "has_ticket = True\n",
    "\n",
    "if age >= 18 and has_ticket:\n",
    "    print(\"You can enter the concert!\")"
   ]
  },
  {
   "cell_type": "markdown",
   "id": "a6a08db1-adae-483b-86b7-6d417e4a8076",
   "metadata": {},
   "source": [
    "### <span style=\"color:#c62828;\"><b>Control Flow with IF Statements</b></span>\n",
    "\n",
    "- ##### <b>if</b>\n",
    "- ##### <b>elif</b> (else if)\n",
    "- ##### <b>else</b>\n",
    "<i><b>Example:</b></i></p>"
   ]
  },
  {
   "cell_type": "code",
   "execution_count": 5,
   "id": "a891b6d8-54b7-43d9-8bae-9874a49b8488",
   "metadata": {},
   "outputs": [
    {
     "name": "stdout",
     "output_type": "stream",
     "text": [
      "Good morning!\n"
     ]
    }
   ],
   "source": [
    "hour = 10\n",
    "\n",
    "if hour < 12:\n",
    "    print(\"Good morning!\")\n",
    "elif hour < 18:\n",
    "    print(\"Good afternoon!\")\n",
    "else:\n",
    "    print(\"Good evening!\")"
   ]
  }
 ],
 "metadata": {
  "kernelspec": {
   "display_name": "Python 3 (ipykernel)",
   "language": "python",
   "name": "python3"
  },
  "language_info": {
   "codemirror_mode": {
    "name": "ipython",
    "version": 3
   },
   "file_extension": ".py",
   "mimetype": "text/x-python",
   "name": "python",
   "nbconvert_exporter": "python",
   "pygments_lexer": "ipython3",
   "version": "3.12.7"
  }
 },
 "nbformat": 4,
 "nbformat_minor": 5
}
