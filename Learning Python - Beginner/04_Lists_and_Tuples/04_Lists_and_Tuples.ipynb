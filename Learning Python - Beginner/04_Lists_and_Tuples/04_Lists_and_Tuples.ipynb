{
 "cells": [
  {
   "cell_type": "markdown",
   "id": "3c9e04db-c8d4-4e4e-ab9e-651bff89097d",
   "metadata": {},
   "source": [
    "# <span style=\"color:#66373c;\"><b>BEGINNER</b> <i>- LISTS & TUPLES</i></span>"
   ]
  },
  {
   "cell_type": "markdown",
   "id": "f8147ceb-5182-4ce2-b4ed-a8ddbb4b988f",
   "metadata": {},
   "source": [
    "<p>Lists and Tuples are two of Python's most important <b>data structures</b>. They help us store and manage <b>collections of items</b>"
   ]
  },
  {
   "cell_type": "markdown",
   "id": "f28ca383-5b63-48fe-8f3d-26b93e95f2e0",
   "metadata": {},
   "source": [
    "## <span style=\"color:#c62828;\"><b>1. What is a List?</b></span>\n",
    "\n",
    "<p>A list is an <b><i>ordered changeable (mutable)</i></b> collection that allows <i>duplicate values</i>.  \n",
    "\n",
    "<i><b>Example:</b></i></p>"
   ]
  },
  {
   "cell_type": "code",
   "execution_count": 1,
   "id": "3a1d4e79-e88e-4854-b88f-32e9afb9dacc",
   "metadata": {},
   "outputs": [],
   "source": [
    "electronics = [\"phone\", \"laptop\", \"desktop\"]"
   ]
  },
  {
   "cell_type": "markdown",
   "id": "ee22c38d-f68f-4cf0-8fa2-12a987b5c440",
   "metadata": {},
   "source": [
    "#### <span style=\"color:#753b41;\"><b><i>- Common List Methods:</i></b></span>\n",
    "\n",
    "- ##### <b>append()</b> - Adds an item.\n",
    "- ##### <b>remove()</b> - Removes an item. \n",
    "- ##### <b>pop()</b> - Removes item ny index.\n",
    "- ##### <b>sort()</b> - Sorts the list.\n",
    "- ##### <b>reverse()</b> - Reverses the order.\n",
    "- ##### <b>len()</b> - Gets the length."
   ]
  },
  {
   "cell_type": "code",
   "execution_count": 3,
   "id": "0e6bc1b7-99c3-44ce-a48d-226537f00b8c",
   "metadata": {},
   "outputs": [
    {
     "name": "stdout",
     "output_type": "stream",
     "text": [
      "['phone', 'laptop', 'desktop', 'ipad', 'ipad']\n"
     ]
    }
   ],
   "source": [
    "electronics.append(\"ipad\")\n",
    "print(electronics)        # ['phone', 'laptop', 'desktop', 'ipad']"
   ]
  },
  {
   "cell_type": "markdown",
   "id": "49a9bc1e-3a70-44ee-a351-9e612790aa2b",
   "metadata": {},
   "source": [
    "## <span style=\"color:#c62828;\"><b>2. Accessing List Items</b></span>\n",
    "\n",
    "- ##### By <b>index:</b> electronics[0] -> \"phone\"\n",
    "- ##### <b>Negative Indexing</b> works too: electronics[-1] ->'ipad'"
   ]
  },
  {
   "cell_type": "markdown",
   "id": "da88b90f-8db0-4e1c-b79a-8bd7c5d74862",
   "metadata": {},
   "source": [
    "## <span style=\"color:#c62828;\"><b>3. Modifying Lists</b></span>"
   ]
  },
  {
   "cell_type": "code",
   "execution_count": 4,
   "id": "a3e3c49a-709e-43d1-8053-de06fae024a0",
   "metadata": {},
   "outputs": [
    {
     "name": "stdout",
     "output_type": "stream",
     "text": [
      "phone\n",
      "laptop\n",
      "desktop\n",
      "ipad\n",
      "ipad\n"
     ]
    }
   ],
   "source": [
    "for electronic in electronics:\n",
    "    print(electronic)"
   ]
  },
  {
   "cell_type": "code",
   "execution_count": null,
   "id": "c67cfec8-a0d8-4708-89d5-e6a69a1d0b99",
   "metadata": {},
   "outputs": [],
   "source": []
  },
  {
   "cell_type": "markdown",
   "id": "9ced84ba-cd9a-46ab-8e39-d893e2200321",
   "metadata": {},
   "source": [
    "# <span style=\"color:#767467;\"><b>What is a Tuple?</b></span>\n",
    "\n",
    "<p>A <b>Tuple</b> is an <i>ordered, unchangeable (immutable)</i> collection that allows <b>duplicate data</b>\n",
    "\n",
    "- Tuples are defines with <b>parentheses ()</b>.\n",
    "- Perfect when you want <b>constant data</b>.\n",
    "</p>"
   ]
  },
  {
   "cell_type": "code",
   "execution_count": null,
   "id": "db6c08d2-f273-4c98-a005-cb53648cf18d",
   "metadata": {},
   "outputs": [],
   "source": [
    "colors = \"red, \"green\", \"blue\""
   ]
  },
  {
   "cell_type": "markdown",
   "id": "d847bad7-5318-45be-b484-d96318fec8f8",
   "metadata": {},
   "source": [
    "## <span style=\"color:#767467;\"><b> Why Use Tuple?</b></span>\n",
    "\n",
    "- They use <b><i>less memory</i></b>.\n",
    "- They are <b><i>faster</i></b> than lists.\n",
    "- You use them when data <b><i>shouldn't</i></b> change.\n",
    "</p>"
   ]
  },
  {
   "cell_type": "markdown",
   "id": "6a53a235-3a90-4f02-b24a-0944f7c1fb83",
   "metadata": {},
   "source": [
    "## <span style=\"color:#767467;\"><b>Accessing Tuple Items</b></span>\n",
    "\n",
    "<p><i>Same as lists:</i></p>"
   ]
  },
  {
   "cell_type": "code",
   "execution_count": null,
   "id": "666c5c19-f07c-4aef-83a0-c32ece825d1c",
   "metadata": {},
   "outputs": [],
   "source": [
    "print(colors[0])   # 'red'"
   ]
  },
  {
   "cell_type": "markdown",
   "id": "72c6673b-b83e-4c24-88f7-a558bb0d20c1",
   "metadata": {},
   "source": [
    "## <span style=\"color:#767467;\"><b>Looping Through Tuples</b></span>"
   ]
  },
  {
   "cell_type": "code",
   "execution_count": null,
   "id": "4e94e5d8-e3ca-48a5-b44c-da2bc0d38495",
   "metadata": {},
   "outputs": [],
   "source": [
    "for color in colors:\n",
    "    print(color)"
   ]
  },
  {
   "cell_type": "markdown",
   "id": "0cbf98e9-9716-4ef0-8eed-8c3d34bd33c5",
   "metadata": {},
   "source": [
    "## <span style=\"color:#767467;\"><b>Tuple Unpacking</b></span>"
   ]
  },
  {
   "cell_type": "code",
   "execution_count": null,
   "id": "6ccf48e0-0af1-42f1-a3a4-368fab1e3747",
   "metadata": {},
   "outputs": [],
   "source": [
    "(red, green, blue) = colors\n",
    "print(red)   # Output: 'red'"
   ]
  },
  {
   "cell_type": "markdown",
   "id": "1f992be1-24dd-4c81-ae88-c0edf2096ba5",
   "metadata": {},
   "source": [
    "## <span style=\"color:#767467;\"><b> Differences Between Lists and Tuples</b></span>\n",
    "\n",
    "- <b>Lists:</b> Mutable (changeable)\n",
    "- <b>Tuples:</b> Immutable (unchangeable)\n",
    "- <b>Lists:</b> Slower\n",
    "- <b>Tuples:</b> Faster\n",
    "</p>"
   ]
  },
  {
   "cell_type": "markdown",
   "id": "f0b2cdb7-4abd-4e6f-9423-11330f27361a",
   "metadata": {},
   "source": [
    "## <span style=\"color:#94a4b5;\"><b><i>QUICK NOTES</i></b></span>\n",
    "\n",
    "- Use <b>lists</b> when data will <b>change</b>.\n",
    "- Use <b>tuples</b> when data is <b>fixed</b>.\n",
    "- Both maintain the <b>order</b> of items.\n",
    "- Both supprt <b>duplicate</b> items.\n",
    "</p>"
   ]
  }
 ],
 "metadata": {
  "kernelspec": {
   "display_name": "Python 3 (ipykernel)",
   "language": "python",
   "name": "python3"
  },
  "language_info": {
   "codemirror_mode": {
    "name": "ipython",
    "version": 3
   },
   "file_extension": ".py",
   "mimetype": "text/x-python",
   "name": "python",
   "nbconvert_exporter": "python",
   "pygments_lexer": "ipython3",
   "version": "3.12.7"
  }
 },
 "nbformat": 4,
 "nbformat_minor": 5
}
