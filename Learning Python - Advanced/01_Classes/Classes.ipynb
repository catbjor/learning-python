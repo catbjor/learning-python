{
 "cells": [
  {
   "cell_type": "markdown",
   "id": "6b480615-9a96-4521-ba1b-38eaa269f2b1",
   "metadata": {},
   "source": [
    "# <span style=\"color:#66373c;\"><b>ADVANCED</b> <i>- CLASSES</i></span>"
   ]
  },
  {
   "cell_type": "markdown",
   "id": "3109591e-f656-47c9-8731-458ad5495233",
   "metadata": {},
   "source": [
    "## <span style=\"color:#c62828;\"><b>1. What are Classes?</b></span>\n",
    "\n",
    "<p>A class in Python is like a <b>blueprint for creating objects</b>.\n",
    "It allows you to bundle data (called attributes) and functions (called methods) together.\n",
    "\n",
    "Think of a class as the recipe, and the object as the cake made from that recipe.</p>"
   ]
  },
  {
   "cell_type": "markdown",
   "id": "17aa5610-39a9-4b6c-8308-91f90d12b3e0",
   "metadata": {},
   "source": [
    "## <span style=\"color:#c62828;\"><b>1. Why Use Classes?</b></span>\n",
    "\n",
    "- #### Organize code better\n",
    "- #### Reuse code efficiently\n",
    "- #### Model real-world things (like cars, people, or products)\n",
    "- #### Make your programs scalable and easier to manage"
   ]
  },
  {
   "cell_type": "markdown",
   "id": "334adebf-ff48-4894-9c48-83669966c6e4",
   "metadata": {},
   "source": [
    "#### <span style=\"color:#c62828;\"><b>Basic Syntax</b></span>"
   ]
  },
  {
   "cell_type": "code",
   "execution_count": 2,
   "id": "3a60e67b-5eba-4453-93a6-26966aa62f45",
   "metadata": {},
   "outputs": [],
   "source": [
    "class Dog:\n",
    "    def __init__(self, name, age):\n",
    "        self.name = name\n",
    "        self.age = age\n",
    "\n",
    "    def bark(self):\n",
    "        print(f\"{self.name} says woof!\")"
   ]
  },
  {
   "cell_type": "markdown",
   "id": "c0d616ca-8f16-4b7f-8100-075f4d9783b6",
   "metadata": {},
   "source": [
    "##### Explanation: \n",
    "- ##### <b>class Dog:</b> – defines a class named Dog.\n",
    "- ##### <b>init()</b> – a special method that runs when you create an object (also called the constructor).\n",
    "- ##### <b>self</b> – refers to the object itself.\n",
    "- ##### <b>Attributes:</b> name, age.\n",
    "- ##### <b>Method:</b> bark()."
   ]
  },
  {
   "cell_type": "markdown",
   "id": "a6b019ff-98fd-4d69-9001-849dad8b62e8",
   "metadata": {},
   "source": [
    "## <span style=\"color:#c62828;\"><b>Creating an Object</b></span>"
   ]
  },
  {
   "cell_type": "code",
   "execution_count": null,
   "id": "e614daa7-0c66-4e57-8069-ad92ac15eefd",
   "metadata": {},
   "outputs": [],
   "source": [
    "my_dog = Dog(\"Buddy\", 5)\n",
    "print(my_dog.name)  # Buddy\n",
    "print(my_dog.age)   # 5\n",
    "my_dog.bark()       # Buddy says woof!"
   ]
  },
  {
   "cell_type": "markdown",
   "id": "ae86eadb-8ae1-4e2f-ba21-2187345bb096",
   "metadata": {},
   "source": [
    "## <span style=\"color:#c62828;\"><b>Class vs Object</b></span>"
   ]
  },
  {
   "cell_type": "markdown",
   "id": "67e682f0-8f36-4f48-bd15-b645eaba5677",
   "metadata": {},
   "source": [
    "| **Term**  | *Explanation*                        |\n",
    "|-----------|--------------------------------------|\n",
    "| **Class**| *Blueprint or template.*            |\n",
    "| **Object**| *Instance of a class (the actual thing).* |\n"
   ]
  },
  {
   "cell_type": "markdown",
   "id": "43015957-b735-4f43-89b5-77866cb36d57",
   "metadata": {},
   "source": [
    "## <span style=\"color:#c62828;\"><b>Attributes vs methods</b></span>"
   ]
  },
  {
   "cell_type": "markdown",
   "id": "34dc1d0a-61a3-47e0-854c-dfe12d0d96ca",
   "metadata": {},
   "source": [
    "| **Part**     | *What it is*                    | *Example*      |\n",
    "|--------------|----------------------------------|----------------|\n",
    "| **Attribute**| *Variable belonging to object* | *name, age*   |\n",
    "| **Method**   | *Function inside the class*    | *bark()*      |\n"
   ]
  },
  {
   "cell_type": "markdown",
   "id": "8ae4cdbc-75b1-44d8-b2e6-6af060cfb36a",
   "metadata": {},
   "source": [
    "## <span style=\"color:#c62828;\"><b>Example with More Methods</b></span>"
   ]
  },
  {
   "cell_type": "code",
   "execution_count": 3,
   "id": "c591f389-c45b-42e9-94ca-1ed1980a3498",
   "metadata": {},
   "outputs": [],
   "source": [
    "class Car:\n",
    "    def __init__(self, brand, year):\n",
    "        self.brand = brand\n",
    "        self.year = year\n",
    "\n",
    "    def honk(self):\n",
    "        print(\"Beep beep!\")\n",
    "\n",
    "    def info(self):\n",
    "        print(f\"This is a {self.year} {self.brand}.\")"
   ]
  },
  {
   "cell_type": "code",
   "execution_count": 5,
   "id": "7c86dfdd-597c-4b6a-9f96-865a389011f8",
   "metadata": {},
   "outputs": [
    {
     "name": "stdout",
     "output_type": "stream",
     "text": [
      "Beep beep!\n",
      "This is a 2020 Toyota.\n"
     ]
    }
   ],
   "source": [
    "my_car = Car(\"Toyota\", 2020)\n",
    "my_car.honk()\n",
    "my_car.info()"
   ]
  },
  {
   "cell_type": "markdown",
   "id": "e0d331a0-0f1a-4b7c-a2d1-50ff79e676e5",
   "metadata": {},
   "source": [
    "## <span style=\"color:#c62828;\"><b>Inheritance (Bonus)</b></span>"
   ]
  },
  {
   "cell_type": "code",
   "execution_count": 6,
   "id": "4f40f718-d7f4-4413-950b-8e68a5f06246",
   "metadata": {},
   "outputs": [],
   "source": [
    "class ElectricCar(Car):  \n",
    "    def battery(self):  \n",
    "        print(\"This car has a battery, not a gas tank.\")  "
   ]
  },
  {
   "cell_type": "code",
   "execution_count": 7,
   "id": "ce6151f5-30c5-40c8-b16e-d61486ce4aa4",
   "metadata": {},
   "outputs": [
    {
     "name": "stdout",
     "output_type": "stream",
     "text": [
      "This is a 2023 Nissan Leaf.\n",
      "This car has a battery, not a gas tank.\n"
     ]
    }
   ],
   "source": [
    "nissan_leaf = ElectricCar(\"Nissan Leaf\", 2023)  \n",
    "nissan_leaf.info()  \n",
    "nissan_leaf.battery()  "
   ]
  },
  {
   "cell_type": "code",
   "execution_count": null,
   "id": "427164b4-4979-40fa-a79f-31ed2adf8ef1",
   "metadata": {},
   "outputs": [],
   "source": []
  }
 ],
 "metadata": {
  "kernelspec": {
   "display_name": "Python 3 (ipykernel)",
   "language": "python",
   "name": "python3"
  },
  "language_info": {
   "codemirror_mode": {
    "name": "ipython",
    "version": 3
   },
   "file_extension": ".py",
   "mimetype": "text/x-python",
   "name": "python",
   "nbconvert_exporter": "python",
   "pygments_lexer": "ipython3",
   "version": "3.12.7"
  }
 },
 "nbformat": 4,
 "nbformat_minor": 5
}
