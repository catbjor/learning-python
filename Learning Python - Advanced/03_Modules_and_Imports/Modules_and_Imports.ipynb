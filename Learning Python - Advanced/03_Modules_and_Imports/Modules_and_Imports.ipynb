{
 "cells": [
  {
   "cell_type": "markdown",
   "id": "c8404a8e-e207-4841-aa2e-f8665f898f8a",
   "metadata": {},
   "source": [
    "# <span style=\"color:#66373c;\"><b>ADVANCED</b> <i>- MODULES & IMPORTS</i></span>"
   ]
  },
  {
   "cell_type": "markdown",
   "id": "d3cdf321-4e24-482f-aa7a-6885bf176464",
   "metadata": {},
   "source": [
    "<p>Modules allow you to organize your Python code into multiple files. By using modules, you can reuse your code across different projects, making it more modular and easier to manage.</p>\n",
    "\n",
    "## <span style=\"color:#c62828;\"><b>What are Modules?</b></span>\n",
    "\n",
    "<p>A module is a file containing Python code that defines functions, classes, and variables. You can think of it as a toolbox with functions and variables that you can use in other Python programs.</p>"
   ]
  },
  {
   "cell_type": "code",
   "execution_count": 1,
   "id": "17e38e06-55e9-4776-a2a5-286245d29c47",
   "metadata": {},
   "outputs": [],
   "source": [
    "# mymodule.py\n",
    "def greet(name):\n",
    "    return f\"Hello, {name}!\""
   ]
  },
  {
   "cell_type": "markdown",
   "id": "587f6ef2-7113-4399-a7a2-e0b8a75d6f55",
   "metadata": {},
   "source": [
    "## <span style=\"color:#c62828;\"><b>Importing Modules</b></span>\n",
    "\n",
    "<p>You can import a module using the <b>import statement</b>.</p>"
   ]
  },
  {
   "cell_type": "code",
   "execution_count": null,
   "id": "bfe440d9-7688-4a47-9688-5db73c39a751",
   "metadata": {},
   "outputs": [],
   "source": [
    "import mymodule\n",
    "print(mymodule.greet(\"Alice\"))"
   ]
  },
  {
   "cell_type": "markdown",
   "id": "dc14c362-6fc3-4a0f-80d1-8c4b9b50e354",
   "metadata": {},
   "source": [
    "## <span style=\"color:#c62828;\"><b>Importing Specific Functions</b></span>\n",
    "\n",
    "<p>You can also import specific functions from a module.</b>.</p>"
   ]
  },
  {
   "cell_type": "code",
   "execution_count": null,
   "id": "b13dc69b-d596-41d0-8e90-4b7e9ef1cb56",
   "metadata": {},
   "outputs": [],
   "source": [
    "from mymodule import greet\n",
    "print(greet(\"Bob\"))"
   ]
  },
  {
   "cell_type": "markdown",
   "id": "cd59b943-0680-433f-a371-9f693e5a14f1",
   "metadata": {},
   "source": [
    "## <span style=\"color:#c62828;\"><b>Renaming Modules with <i>as</i></b></span>\n",
    "\n",
    "<p>You can use the <b>as</b> keyword to rename a module when importing it, making it easier to reference.</b>.</p>"
   ]
  },
  {
   "cell_type": "code",
   "execution_count": null,
   "id": "66ee7cc9-0768-45ee-abd2-7d6fac34924c",
   "metadata": {},
   "outputs": [],
   "source": [
    "import mymodule as mm\n",
    "print(mm.greet(\"Charlie\"))"
   ]
  },
  {
   "cell_type": "markdown",
   "id": "eb889ad1-a3a8-469b-9d5c-761ba229a525",
   "metadata": {},
   "source": [
    "## <span style=\"color:#c62828;\"><b>The __name__ Variable</b></span>\n",
    "\n",
    "<p>If you run a Python script directly, the __name__ variable is set to \"__main__\". If the script is imported as a module, it is set to the name of the script.</p>\n",
    "\n",
    "<i><b>Example:</b></i></p>"
   ]
  },
  {
   "cell_type": "code",
   "execution_count": null,
   "id": "e58ed158-13a3-4a75-b6a1-6edded209ef1",
   "metadata": {},
   "outputs": [],
   "source": [
    "# mymodule.py\n",
    "if __name__ == \"__main__\":\n",
    "    print(\"This is the main script.\")\n",
    "else:\n",
    "    print(\"This is a module.\")"
   ]
  },
  {
   "cell_type": "markdown",
   "id": "e44a9751-3711-4c4b-a445-88ed62673e77",
   "metadata": {},
   "source": [
    "## <span style=\"color:#c62828;\"><b>Built-in Python Modules</b></span>\n",
    "\n",
    "<p>Python comes with many built-in modules that you can import and use.</p>\n",
    "\n",
    "<i><b>Here are some common examples:</b></i></p>"
   ]
  },
  {
   "cell_type": "code",
   "execution_count": null,
   "id": "dac9bf40-082e-4bdf-ac8a-1ad2416c8cf0",
   "metadata": {},
   "outputs": [],
   "source": [
    "import math\n",
    "import random\n",
    "import os\n",
    "import datetime\n",
    "import sys"
   ]
  },
  {
   "cell_type": "code",
   "execution_count": null,
   "id": "5c0f2e37-2299-4656-b87e-5a5734151d20",
   "metadata": {},
   "outputs": [],
   "source": [
    "import pandas as pd\n",
    "\n",
    "# Create a DataFrame for the table\n",
    "data = {\n",
    "    \"Module\": [\"math\", \"random\", \"os\", \"datetime\", \"sys\"],\n",
    "    \"Description\": [\n",
    "        \"Provides mathematical functions like `sin()`, `cos()`, etc.\",\n",
    "        \"Generates random numbers and selections.\",\n",
    "        \"Provides functions to interact with the operating system.\",\n",
    "        \"Handles dates and times.\",\n",
    "        \"Accesses system-specific parameters and functions.\"\n",
    "    ]\n",
    "}\n",
    "\n",
    "df = pd.DataFrame(data)\n",
    "\n",
    "# Display the table\n",
    "df"
   ]
  },
  {
   "cell_type": "markdown",
   "id": "0079e663-1e04-4452-9bff-68d3ea62504b",
   "metadata": {},
   "source": [
    "## <span style=\"color:#c62828;\"><b>Creating Your Own Module</b></span>\n",
    "\n",
    "<p>To create your own module, save your code in a file with a .py extension. For example, create a file called mymodule.py and add functions or variables.</p>\n",
    "\n",
    "<i><b>Example mymodule.py:</b></i></p>"
   ]
  },
  {
   "cell_type": "code",
   "execution_count": null,
   "id": "e4a2b598-71f7-46ea-9313-4f3c95364526",
   "metadata": {},
   "outputs": [],
   "source": [
    "def greet(name):\n",
    "    return f\"Hello, {name}!\"\n",
    "\n",
    "def add(a, b):\n",
    "    return a + b"
   ]
  },
  {
   "cell_type": "markdown",
   "id": "abb01f88-888c-4e8f-b2cd-bd6907081cd6",
   "metadata": {},
   "source": [
    "## <span style=\"color:#c62828;\"><b>Packages in Python</b></span>\n",
    "\n",
    "<p>A package is a collection of related modules. It allows you to structure your project by grouping modules together.\n",
    "\n",
    "You can create a package by organizing modules into a directory with an __init__.py file.</p>\n",
    "\n",
    "<i><b>Example:</b></i></p>"
   ]
  },
  {
   "cell_type": "code",
   "execution_count": null,
   "id": "5a8a7f6c-e495-414a-8763-bb8f1a8918dd",
   "metadata": {},
   "outputs": [],
   "source": [
    "my_package/\n",
    "    __init__.py\n",
    "    module1.py\n",
    "    module2.py"
   ]
  },
  {
   "cell_type": "markdown",
   "id": "54dc6e9a-e00a-4649-8d78-15f1834d6b58",
   "metadata": {},
   "source": [
    "## <span style=\"color:#c62828;\"><b>The <i>importlib</i> Module</b></span>\n",
    "\n",
    "<p>The importlib module allows you to import modules dynamically (at runtime).</p>\n",
    "\n",
    "<i><b>Example:</b></i>"
   ]
  },
  {
   "cell_type": "code",
   "execution_count": null,
   "id": "069c7cd1-26f9-49b2-ae98-28ade32e6fb3",
   "metadata": {},
   "outputs": [],
   "source": [
    "import importlib\n",
    "mymodule = importlib.import_module('mymodule')\n",
    "print(mymodule.greet(\"Frank\"))"
   ]
  },
  {
   "cell_type": "markdown",
   "id": "1cf86fba-3629-4959-9cab-ba86f2163467",
   "metadata": {},
   "source": [
    "## <span style=\"color:#c62828;\"><b>Python Standard Library</b></span>\n",
    "\n",
    "<p>The Python Standard Library is a collection of modules and packages that come bundled with Python. You can access them without installing anything extra.\n",
    "\n",
    "Here are some useful built-in modules:\n",
    "\n",
    "- <b>json:</b> Provides JSON handling tools.\n",
    "- <b>requests:</b> For HTTP requests (needs to be installed).\n",
    "- <b>re:</b> For working with regular expressions.</p>"
   ]
  },
  {
   "cell_type": "code",
   "execution_count": null,
   "id": "7bb5e595-bc4b-4cb4-a933-ee093eef1845",
   "metadata": {},
   "outputs": [],
   "source": []
  },
  {
   "cell_type": "code",
   "execution_count": null,
   "id": "dfe64541-ae86-4f50-a41c-bf1774018f1a",
   "metadata": {},
   "outputs": [],
   "source": []
  },
  {
   "cell_type": "code",
   "execution_count": null,
   "id": "5496afd1-4f5f-4966-b01d-ad15cffa891b",
   "metadata": {},
   "outputs": [],
   "source": []
  },
  {
   "cell_type": "code",
   "execution_count": null,
   "id": "5e328a9e-c108-4abf-b27d-b52e6d185f13",
   "metadata": {},
   "outputs": [],
   "source": []
  },
  {
   "cell_type": "code",
   "execution_count": null,
   "id": "1880e782-46d6-4938-bb61-d795f606adcd",
   "metadata": {},
   "outputs": [],
   "source": []
  },
  {
   "cell_type": "code",
   "execution_count": null,
   "id": "0309fead-23b9-43d6-bec4-3631eff2c31f",
   "metadata": {},
   "outputs": [],
   "source": []
  },
  {
   "cell_type": "code",
   "execution_count": null,
   "id": "9dc2abb7-ee7b-49c2-b501-1e986b25b1da",
   "metadata": {},
   "outputs": [],
   "source": []
  },
  {
   "cell_type": "code",
   "execution_count": null,
   "id": "225ec406-8e1e-4cdf-8def-6ba226bc131d",
   "metadata": {},
   "outputs": [],
   "source": []
  }
 ],
 "metadata": {
  "kernelspec": {
   "display_name": "Python 3 (ipykernel)",
   "language": "python",
   "name": "python3"
  },
  "language_info": {
   "codemirror_mode": {
    "name": "ipython",
    "version": 3
   },
   "file_extension": ".py",
   "mimetype": "text/x-python",
   "name": "python",
   "nbconvert_exporter": "python",
   "pygments_lexer": "ipython3",
   "version": "3.12.7"
  }
 },
 "nbformat": 4,
 "nbformat_minor": 5
}
