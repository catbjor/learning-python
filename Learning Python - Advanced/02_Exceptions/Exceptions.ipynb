{
 "cells": [
  {
   "cell_type": "markdown",
   "id": "e831dedb-8b6c-4097-b473-13369b211fb9",
   "metadata": {},
   "source": [
    "# <span style=\"color:#66373c;\"><b>ADVANCED</b> <i>- EXCEPTIONS</i></span>"
   ]
  },
  {
   "cell_type": "markdown",
   "id": "05fa233c-b119-41e1-9625-af8c79a81584",
   "metadata": {},
   "source": [
    "## <span style=\"color:#c62828;\"><b>1. What are Exceptions?</b></span>\n",
    "\n",
    "<p>Exceptions are errors that occur during program execution. If not handled, they will <b>crash your program.</b>"
   ]
  },
  {
   "cell_type": "code",
   "execution_count": null,
   "id": "bf919a9e-bc5a-4eff-8acd-621af9aeec0e",
   "metadata": {},
   "outputs": [],
   "source": [
    "print(10 / 0)  # ZeroDivisionError: division by zero"
   ]
  },
  {
   "cell_type": "markdown",
   "id": "891e952a-6a33-4996-8ab7-852a7431e57a",
   "metadata": {},
   "source": [
    "#### <span style=\"color:#c62828;\"><b>Common Exceptions in Python</b></span>"
   ]
  },
  {
   "cell_type": "markdown",
   "id": "c64304ef-3857-4765-9bfc-a5ebdca47ece",
   "metadata": {},
   "source": [
    "| **Exception**         | **Description** |\n",
    "|-----------------------|----------------|\n",
    "| **TypeError**        | *Occurs when an operation is performed on an incorrect data type* |\n",
    "| **ValueError**       | *Occurs when a function receives an invalid argument* |\n",
    "| **IndexError**       | *Occurs when trying to access an index that doesn’t exist in a list* |\n",
    "| **KeyError**         | *Occurs when trying to access a non-existent key in a dictionary* |\n",
    "| **ZeroDivisionError** | *Occurs when dividing by zero* |\n",
    "| **FileNotFoundError** | *Occurs when trying to open a file that doesn’t exist* |\n"
   ]
  },
  {
   "cell_type": "markdown",
   "id": "2cfba44c-d8f8-4367-82d4-d8506eac5446",
   "metadata": {},
   "source": [
    "## <span style=\"color:#c62828;\"><b>Handling Exceptions with <i>try</i> and <i>except</i></b></span>\n",
    "\n",
    "<p>To prevent your program from crashing, you can handle exceptions using <b>try</b> and <b>except</b>.</p>"
   ]
  },
  {
   "cell_type": "code",
   "execution_count": 2,
   "id": "dc876ce6-318a-40e6-b8f2-18a22d648a2e",
   "metadata": {},
   "outputs": [
    {
     "name": "stdout",
     "output_type": "stream",
     "text": [
      "You can't divide by zero!\n"
     ]
    }
   ],
   "source": [
    "try:\n",
    "    print(10 / 0)  \n",
    "except ZeroDivisionError:\n",
    "    print(\"You can't divide by zero!\")"
   ]
  },
  {
   "cell_type": "markdown",
   "id": "a42d255c-8579-492d-a64d-bb3492d94cb6",
   "metadata": {},
   "source": [
    "## <span style=\"color:#c62828;\"><b>Catching Multiple Exceptions</i></b></span>\n",
    "\n",
    "<p>You can handle multiple exceptions by listing them in a tuple.</p>"
   ]
  },
  {
   "cell_type": "code",
   "execution_count": 3,
   "id": "c5b8b487-05fa-4c49-9cce-143a15b30100",
   "metadata": {},
   "outputs": [
    {
     "name": "stdin",
     "output_type": "stream",
     "text": [
      "Enter a number:  3\n"
     ]
    },
    {
     "name": "stdout",
     "output_type": "stream",
     "text": [
      "3.3333333333333335\n"
     ]
    }
   ],
   "source": [
    "try:\n",
    "    num = int(input(\"Enter a number: \"))\n",
    "    print(10 / num)\n",
    "except (ZeroDivisionError, ValueError):\n",
    "    print(\"Invalid input! Make sure it's a number and not zero.\")"
   ]
  },
  {
   "cell_type": "markdown",
   "id": "1a5f7dae-f39b-4dea-86e1-929ec442cbfe",
   "metadata": {},
   "source": [
    "## <span style=\"color:#c62828;\"><b>Using <i>finally</i> (Always Executes)</b></span>\n",
    "\n",
    "<p>The <b>finally</b> block always runs, whether an exception occurs or not.</p>"
   ]
  },
  {
   "cell_type": "code",
   "execution_count": 4,
   "id": "9c8f1546-9cdc-4c26-b20b-e4fc0276ce9c",
   "metadata": {},
   "outputs": [
    {
     "name": "stdout",
     "output_type": "stream",
     "text": [
      "File not found!\n",
      "This runs no matter what.\n"
     ]
    }
   ],
   "source": [
    "try:\n",
    "    file = open(\"test.txt\", \"r\")\n",
    "    content = file.read()\n",
    "except FileNotFoundError:\n",
    "    print(\"File not found!\")\n",
    "finally:\n",
    "    print(\"This runs no matter what.\")  # Always executes"
   ]
  },
  {
   "cell_type": "markdown",
   "id": "35e46651-1b11-40d2-a39b-ce26ea382e65",
   "metadata": {},
   "source": [
    "## <span style=\"color:#c62828;\"><b>Raising Exceptions with <i>raise</i></b></span>\n",
    "\n",
    "<p>You can manually raise exceptions using <b>raise.</b></p>"
   ]
  },
  {
   "cell_type": "code",
   "execution_count": 5,
   "id": "ede8bbdd-9fc3-4159-a9bc-fde51f4f7b08",
   "metadata": {},
   "outputs": [
    {
     "name": "stdin",
     "output_type": "stream",
     "text": [
      "Enter your age:  34\n"
     ]
    }
   ],
   "source": [
    "age = int(input(\"Enter your age: \"))\n",
    "\n",
    "if age < 0:\n",
    "    raise ValueError(\"Age can't be negative!\")"
   ]
  },
  {
   "cell_type": "markdown",
   "id": "cc4d5940-5c1a-4ad9-9f5a-d8641e37f894",
   "metadata": {},
   "source": [
    "## <span style=\"color:#c62828;\"><b>Custom Exceptions</b></span>\n",
    "\n",
    "<p>You can create your own exception class by inheriting from <b>Exception</b>.</p>"
   ]
  },
  {
   "cell_type": "code",
   "execution_count": 6,
   "id": "ac365fa1-6bd8-40c2-8408-6742ea3e8915",
   "metadata": {},
   "outputs": [
    {
     "name": "stdout",
     "output_type": "stream",
     "text": [
      "Something went wrong!\n"
     ]
    }
   ],
   "source": [
    "class MyError(Exception):\n",
    "    pass\n",
    "\n",
    "try:\n",
    "    raise MyError(\"Something went wrong!\")\n",
    "except MyError as e:\n",
    "    print(e)"
   ]
  }
 ],
 "metadata": {
  "kernelspec": {
   "display_name": "Python 3 (ipykernel)",
   "language": "python",
   "name": "python3"
  },
  "language_info": {
   "codemirror_mode": {
    "name": "ipython",
    "version": 3
   },
   "file_extension": ".py",
   "mimetype": "text/x-python",
   "name": "python",
   "nbconvert_exporter": "python",
   "pygments_lexer": "ipython3",
   "version": "3.12.7"
  }
 },
 "nbformat": 4,
 "nbformat_minor": 5
}
