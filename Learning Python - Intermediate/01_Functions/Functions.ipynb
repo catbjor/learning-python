{
 "cells": [
  {
   "cell_type": "markdown",
   "id": "b4c5b127-58c2-426b-b4ea-dc960db69a3c",
   "metadata": {},
   "source": [
    "# <span style=\"color:#e5683b;\"><b>INTERMEDIATE</b> <i>- FUNCTIONS</i></span>"
   ]
  },
  {
   "cell_type": "markdown",
   "id": "1fb0dad3-3b7b-4cc7-a547-c4f33de63d4c",
   "metadata": {},
   "source": [
    "## <span style=\"color:#c62828;\"><b>1. What is a Function</b></span>\n",
    "\n",
    "<p>A <b>function</b> is a reusable block of code that performs a specific task. You can define a function once and can use it multiple times, which makes your code more organized and reduces repetition.</p>\n",
    "\n",
    "#### <span style=\"color:#58c0db;\"><b>Basic Syntax</b></span>\n",
    "\n",
    "<i><b>Example:</b></i></p>"
   ]
  },
  {
   "cell_type": "code",
   "execution_count": 1,
   "id": "3367e714-87cb-44d8-9357-d7a27ee3a650",
   "metadata": {},
   "outputs": [
    {
     "name": "stdout",
     "output_type": "stream",
     "text": [
      "Hello, world!\n"
     ]
    }
   ],
   "source": [
    "def greet():\n",
    "    print(\"Hello, world!\")\n",
    "\n",
    "greet()"
   ]
  },
  {
   "cell_type": "markdown",
   "id": "f1b98a08-6a1c-413a-81c7-48a618725d34",
   "metadata": {},
   "source": [
    "## <span style=\"color:#c62828;\"><b>2. Parameters and Arguments</b></span>\n",
    "\n",
    "<p>Functions can accept <b>parameters</b> to make them dynamic.\n",
    "\n",
    "<i><b>Example:</b></i></p>"
   ]
  },
  {
   "cell_type": "code",
   "execution_count": 3,
   "id": "570a4d52-574a-4d94-8194-16c37efaeb02",
   "metadata": {},
   "outputs": [
    {
     "name": "stdout",
     "output_type": "stream",
     "text": [
      "Hello, Fiona!\n"
     ]
    }
   ],
   "source": [
    "def greet(name):\n",
    "    print(f\"Hello, {name}!\")\n",
    "\n",
    "greet(\"Fiona\")"
   ]
  },
  {
   "cell_type": "markdown",
   "id": "26df9a28-cb71-4bf1-a1a8-257e6e4ce633",
   "metadata": {},
   "source": [
    "#### <span style=\"color:#58c0db;\"><b>Return Values</b></span>\n",
    "\n",
    "<p>Functions can <b>return</b> values using the <b>return</b> keyword.</p>\n",
    "\n",
    "<i><b>Example:</b></i></p>"
   ]
  },
  {
   "cell_type": "code",
   "execution_count": 4,
   "id": "1f4cfa3b-7166-4cc1-bf13-03104b0ef4bf",
   "metadata": {},
   "outputs": [
    {
     "name": "stdout",
     "output_type": "stream",
     "text": [
      "8\n"
     ]
    }
   ],
   "source": [
    "def add (a, b):\n",
    "    return a + b\n",
    "\n",
    "result = add(5, 3)\n",
    "print(result)"
   ]
  },
  {
   "cell_type": "markdown",
   "id": "8168dbab-f3fd-4063-a496-e474f9ef95c9",
   "metadata": {},
   "source": [
    "## <span style=\"color:#c62828;\"><b>3. Default Parameter Values</b></span>\n",
    "\n",
    "<p>Functions can have default values for parameters\n",
    "\n",
    "<i><b>Example:</b></i></p>"
   ]
  },
  {
   "cell_type": "code",
   "execution_count": 7,
   "id": "1522d33b-45d8-4043-9a25-407a376d7bed",
   "metadata": {},
   "outputs": [
    {
     "name": "stdout",
     "output_type": "stream",
     "text": [
      "Hello, Stranger!\n",
      "Hello, Bob!\n"
     ]
    }
   ],
   "source": [
    "def greet(name=\"Stranger\"):\n",
    "    print(f\"Hello, {name}!\")\n",
    "\n",
    "greet()\n",
    "greet(\"Bob\")"
   ]
  },
  {
   "cell_type": "markdown",
   "id": "50328f53-2007-4229-b52e-ee7c92127570",
   "metadata": {},
   "source": [
    "## <span style=\"color:#c62828;\"><b>4. Keyword Arguments</b></span>\n",
    "\n",
    "<p>When calling functions, you can specify arguments by name.\n",
    "\n",
    "<i><b>Example:</b></i></p>"
   ]
  },
  {
   "cell_type": "code",
   "execution_count": 8,
   "id": "a79e1d54-d637-4247-81ff-4306308a051d",
   "metadata": {},
   "outputs": [
    {
     "name": "stdout",
     "output_type": "stream",
     "text": [
      "I have a dog named Buddy.\n"
     ]
    }
   ],
   "source": [
    "def describe_pet(animal, name):\n",
    "    print(f\"I have a {animal} named {name}.\")\n",
    "\n",
    "describe_pet(animal=\"dog\", name=\"Buddy\")"
   ]
  }
 ],
 "metadata": {
  "kernelspec": {
   "display_name": "Python 3 (ipykernel)",
   "language": "python",
   "name": "python3"
  },
  "language_info": {
   "codemirror_mode": {
    "name": "ipython",
    "version": 3
   },
   "file_extension": ".py",
   "mimetype": "text/x-python",
   "name": "python",
   "nbconvert_exporter": "python",
   "pygments_lexer": "ipython3",
   "version": "3.12.7"
  }
 },
 "nbformat": 4,
 "nbformat_minor": 5
}
