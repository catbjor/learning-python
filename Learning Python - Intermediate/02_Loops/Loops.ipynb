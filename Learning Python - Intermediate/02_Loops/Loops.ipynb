{
 "cells": [
  {
   "cell_type": "markdown",
   "id": "5affbc53-fc51-4376-b535-69e3a7653aa1",
   "metadata": {},
   "source": [
    "# <span style=\"color:#b12745;\"><b>INTERMEDIATE</b> <i>- LOOPS</i></span>"
   ]
  },
  {
   "cell_type": "markdown",
   "id": "95ff37fd-2c5c-45b1-b7c5-4e4d5d45e445",
   "metadata": {},
   "source": [
    "## <span style=\"color:#d36a7e;\"><b>What are Loops</b></span>\n",
    "\n",
    "<p>A <b>loop</b> is a programming concept that allows you to execute a block of code repeatedly based on a condition. In Python, there are two main types of loops:\n",
    "\n",
    "- <b>For Loop:</b> Used to iterate over a sequence (such as a list ot a range).\n",
    "- <b>While Loop:</b> Repeats as long as a condition is true.\n",
    "\n",
    "<h3 style=\"color:#d36a7e;\"><b>For Loop</b></h3>\n",
    "\n",
    "A For Loop is typically used when you know the number of times you want to iterate over a sequence, such as a list, string, or range.\n",
    "</p>\n",
    "\n",
    "<h3 style=\"color:#f5b8be;\"><b><i>Example:</i></b></h3>"
   ]
  },
  {
   "cell_type": "code",
   "execution_count": 3,
   "id": "20e452c1-b230-491b-ad42-4018b34819c1",
   "metadata": {},
   "outputs": [
    {
     "name": "stdout",
     "output_type": "stream",
     "text": [
      "0\n",
      "1\n",
      "2\n",
      "3\n",
      "4\n"
     ]
    }
   ],
   "source": [
    "for i in range(5):\n",
    "    print(i)"
   ]
  },
  {
   "cell_type": "markdown",
   "id": "bbdb0499-7bbe-4411-9b17-567d4a16bdf3",
   "metadata": {},
   "source": [
    "<h3 style=\"color:#d36a7e;\"><b>While Loop</b></h3>\n",
    "\n",
    "<p>A <b>while loop</b> repeats as long as the given condition is <b>True</b>.</p>\n",
    "<h3 style=\"color:#f5b8be;\"><b><i>Example:</i></b></h3>"
   ]
  },
  {
   "cell_type": "code",
   "execution_count": 5,
   "id": "9c3d49f5-ca0d-4b8e-bec3-6fa2816b83d2",
   "metadata": {},
   "outputs": [
    {
     "name": "stdout",
     "output_type": "stream",
     "text": [
      "0\n",
      "1\n",
      "2\n",
      "3\n",
      "4\n"
     ]
    }
   ],
   "source": [
    "count = 0 \n",
    "while count < 5:\n",
    "    print(count)\n",
    "    count += 1"
   ]
  },
  {
   "cell_type": "markdown",
   "id": "f0a65309-36f4-44af-81e2-20ef2ef2f88e",
   "metadata": {},
   "source": [
    "<h3 style=\"color:#d36a7e;\"><b>Break and Continue Statements</b></h3>\n",
    "\n",
    "<p>The <b>break</b> statement can be used to eqit the loop, and the <b>continue</b> statement skips the rest of the current loop and moves to the next one.</p>\n",
    "\n",
    "<h3 style=\"color:#f5b8be;\"><b><i>Example (break):</i></b></h3>"
   ]
  },
  {
   "cell_type": "code",
   "execution_count": 7,
   "id": "2458da12-af1c-454c-853e-8e601b691217",
   "metadata": {},
   "outputs": [
    {
     "name": "stdout",
     "output_type": "stream",
     "text": [
      "0\n",
      "1\n",
      "2\n",
      "3\n",
      "4\n"
     ]
    }
   ],
   "source": [
    "for i in range(10):\n",
    "    if i == 5:\n",
    "        break\n",
    "    print(i)"
   ]
  },
  {
   "cell_type": "markdown",
   "id": "9a05040d-f9fa-429b-9fd8-982e20a7911a",
   "metadata": {},
   "source": [
    "<h3 style=\"color:#f5b8be;\"><b><i>Example (continue):</i></b></h3>"
   ]
  },
  {
   "cell_type": "code",
   "execution_count": 8,
   "id": "210bef25-efc6-4e1f-8a1c-4f09acadcab6",
   "metadata": {},
   "outputs": [
    {
     "name": "stdout",
     "output_type": "stream",
     "text": [
      "0\n",
      "1\n",
      "2\n",
      "3\n",
      "4\n",
      "6\n",
      "7\n",
      "8\n",
      "9\n"
     ]
    }
   ],
   "source": [
    "for i in range(10):\n",
    "    if i == 5:\n",
    "        continue\n",
    "    print(i)"
   ]
  },
  {
   "cell_type": "markdown",
   "id": "cbd8c713-f1dd-4e46-9c05-880c5d5f073b",
   "metadata": {},
   "source": [
    "<h3 style=\"color:#d36a7e;\"><b>Nested Loops</b></h3>\n",
    "\n",
    "<p>You can have loops inside other loops, which are called <b>nested loops</b></p>\n",
    "\n",
    "<h3 style=\"color:#f5b8be;\"><b><i>Example:</i></b></h3>"
   ]
  },
  {
   "cell_type": "code",
   "execution_count": 11,
   "id": "b7405369-2d45-40e6-b8fa-f6070ca59615",
   "metadata": {},
   "outputs": [
    {
     "name": "stdout",
     "output_type": "stream",
     "text": [
      "i = 0, j = 0\n",
      "i = 0, j = 1\n",
      "i = 1, j = 0\n",
      "i = 1, j = 1\n",
      "i = 2, j = 0\n",
      "i = 2, j = 1\n"
     ]
    }
   ],
   "source": [
    "for i in range(3):\n",
    "    for j in range(2):\n",
    "        print(f\"i = {i}, j = {j}\")"
   ]
  }
 ],
 "metadata": {
  "kernelspec": {
   "display_name": "Python 3 (ipykernel)",
   "language": "python",
   "name": "python3"
  },
  "language_info": {
   "codemirror_mode": {
    "name": "ipython",
    "version": 3
   },
   "file_extension": ".py",
   "mimetype": "text/x-python",
   "name": "python",
   "nbconvert_exporter": "python",
   "pygments_lexer": "ipython3",
   "version": "3.12.7"
  }
 },
 "nbformat": 4,
 "nbformat_minor": 5
}
