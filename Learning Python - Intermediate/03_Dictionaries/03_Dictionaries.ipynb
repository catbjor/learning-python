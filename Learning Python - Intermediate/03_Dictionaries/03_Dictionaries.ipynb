{
 "cells": [
  {
   "cell_type": "markdown",
   "id": "7a18a5e3-a1e0-4228-8057-f99379c3fffa",
   "metadata": {},
   "source": [
    "# <span style=\"color:#763118;\"><b>INTERMEDIATE</b> <i>- DICTIONARIES</i></span>"
   ]
  },
  {
   "cell_type": "markdown",
   "id": "b9fc1182-4b29-436b-95fa-338511498369",
   "metadata": {},
   "source": [
    "## <span style=\"color:#de823b;\"><b>What is a Dictionary</b></span>\n",
    "\n",
    "<p>A <b>dictionary</b> in Python is a collection of <b><i>key-value pairs</i></b>. It's used to store data values like a map. Each key is unique, and each key has a value.</b>\n",
    "\n",
    "- <b>Mutable</b> (can be changed)\n",
    "- <b>Unordered</b> (Python 3.6+ preserves insertion order, but traditionally unordered)\n",
    "- Written with <b>curly brackets{}</b>\n",
    "\n",
    "<i><b>Syntax:</b></i></p>"
   ]
  },
  {
   "cell_type": "code",
   "execution_count": 8,
   "id": "8b432072-37c0-4bfc-b1fe-0dd9836cdbe1",
   "metadata": {},
   "outputs": [],
   "source": [
    "my_dict = {\n",
    "    \"name\": \"Alice\",\n",
    "    \"age\": 30,\n",
    "    \"city\": \"Oslo\"\n",
    "}\n"
   ]
  },
  {
   "cell_type": "markdown",
   "id": "3ac73119-b361-4f75-a9a8-6aa911636848",
   "metadata": {},
   "source": [
    "### <span style=\"color:#753b41;\"><b>Accessing Item</b></span>"
   ]
  },
  {
   "cell_type": "code",
   "execution_count": 9,
   "id": "aee7b264-d4e3-40f7-aed2-663a9e36e7d7",
   "metadata": {},
   "outputs": [
    {
     "name": "stdout",
     "output_type": "stream",
     "text": [
      "Alice\n",
      "30\n"
     ]
    }
   ],
   "source": [
    "print(my_dict[\"name\"])  # Output: Alice\n",
    "print(my_dict.get(\"age\"))  # Output: 30\n"
   ]
  },
  {
   "cell_type": "markdown",
   "id": "bd68845a-b687-444f-b6a3-ff16afb8ffac",
   "metadata": {},
   "source": [
    "### <span style=\"color:#753b41;\"><b>Adding or Changing Item</b></span>"
   ]
  },
  {
   "cell_type": "code",
   "execution_count": 11,
   "id": "d5349cc8-c7d9-466b-8ce8-be98a896a95c",
   "metadata": {},
   "outputs": [],
   "source": [
    "my_dict[\"job\"] = \"Engineer\"  # Add new key-value pair\n",
    "my_dict[\"age\"] = 31  # Change existing value"
   ]
  },
  {
   "cell_type": "markdown",
   "id": "31afafef-47eb-4b97-962a-740de2245cb5",
   "metadata": {},
   "source": [
    "### <span style=\"color:#753b41;\"><b>Removing Items</b></span>"
   ]
  },
  {
   "cell_type": "code",
   "execution_count": 12,
   "id": "ceb4bb9e-a216-4bbc-8288-eb4ce45063bb",
   "metadata": {},
   "outputs": [],
   "source": [
    "my_dict.pop(\"city\")  # Removes the key 'city'\n",
    "del my_dict[\"name\"]  # Deletes 'name'\n",
    "my_dict.clear()  # Clears the entire dictionary"
   ]
  },
  {
   "cell_type": "markdown",
   "id": "4309f94f-1f44-433e-b28c-4ccaa58fa428",
   "metadata": {},
   "source": [
    "### <span style=\"color:#753b41;\"><b>Looping Through Dictionaries</b></span>"
   ]
  },
  {
   "cell_type": "code",
   "execution_count": 15,
   "id": "9da59e58-fc5d-4ed5-b9bd-e88e0bd4600c",
   "metadata": {},
   "outputs": [],
   "source": [
    "for key in my_dict:\n",
    "    print(key, my_dict[key])\n",
    "\n",
    "for key, value in my_dict.items():\n",
    "    print(key, value)\n"
   ]
  },
  {
   "cell_type": "markdown",
   "id": "fd82be8b-7895-4d9b-9bec-eb35fc8bdb8e",
   "metadata": {},
   "source": [
    "### <span style=\"color:#753b41;\"><b>Nested Dictionaries</b></span>"
   ]
  },
  {
   "cell_type": "code",
   "execution_count": 17,
   "id": "423b33ff-dd72-4e19-94b3-398aa688fbc6",
   "metadata": {},
   "outputs": [
    {
     "name": "stdout",
     "output_type": "stream",
     "text": [
      "Alice\n"
     ]
    }
   ],
   "source": [
    "people = {\n",
    "    \"person1\": {\"name\": \"Alice\", \"age\": 30},\n",
    "    \"person2\": {\"name\": \"Bob\", \"age\": 25}\n",
    "}\n",
    "print(people[\"person1\"][\"name\"])  # Output: Alice\n"
   ]
  },
  {
   "cell_type": "markdown",
   "id": "bfdbc8ad-3cb3-44cf-8d8f-fc6c5764fd87",
   "metadata": {},
   "source": [
    "### <span style=\"color:#753b41;\"><b>Common Dictionary Methods</b></span>"
   ]
  },
  {
   "cell_type": "markdown",
   "id": "1c67ca48-afed-423d-9c6e-db19e29cf460",
   "metadata": {},
   "source": [
    "### Common Dictionary Methods:\n",
    "\n",
    "| **Method** | *Description* |\n",
    "|------------|---------------|\n",
    "| **.get()** | *Returns the value for a specified key* |\n",
    "| **.keys()** | *Returns a list of all the keys* |\n",
    "| **.values()** | *Returns a list of all the values* |\n",
    "| **.items()** | *Returns a list of key-value pairs* |\n",
    "| **.pop()** | *Removes a key and returns its value* |\n",
    "| **.update()** | *Updates the dictionary with key-value pairs from another dictionary* |\n"
   ]
  },
  {
   "cell_type": "markdown",
   "id": "49549bb3-1cc5-4ed8-89c9-ff63d69a5bb0",
   "metadata": {},
   "source": [
    "### <span style=\"color:#753b41;\"><b>When to use Dictionaries?</b></span>\n",
    "<p>\n",
    "- When you need to associate <b>keys with values</b>.\n",
    "- When you want <b>fast lookups</b>.\n",
    "- When you have <b>structured data</b> (like a contact book).\n",
    "</p>"
   ]
  }
 ],
 "metadata": {
  "kernelspec": {
   "display_name": "Python 3 (ipykernel)",
   "language": "python",
   "name": "python3"
  },
  "language_info": {
   "codemirror_mode": {
    "name": "ipython",
    "version": 3
   },
   "file_extension": ".py",
   "mimetype": "text/x-python",
   "name": "python",
   "nbconvert_exporter": "python",
   "pygments_lexer": "ipython3",
   "version": "3.12.7"
  }
 },
 "nbformat": 4,
 "nbformat_minor": 5
}
