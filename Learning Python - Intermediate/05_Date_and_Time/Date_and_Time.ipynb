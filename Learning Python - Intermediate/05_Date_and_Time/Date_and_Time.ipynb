{
 "cells": [
  {
   "cell_type": "markdown",
   "id": "2e040888-45d8-4a53-bbb3-18727c3c9dd4",
   "metadata": {},
   "source": [
    "# <span style=\"color:#766663;\"><b>INTERMEDIATE</b> <i>- DATE & TIME</i></span>"
   ]
  },
  {
   "cell_type": "markdown",
   "id": "aa5e232a-fa91-42cb-bebf-4252c484982d",
   "metadata": {},
   "source": [
    "## <span style=\"color:#ab7154;\"><b>What is Date and Time?</b></span>\n",
    "\n",
    "<p>Python has a built-in module called <b>datetime</b> that lets you work with dates and times easily. You can do things like:\n",
    "\n",
    "- Get the current date and time.\n",
    "- Format dates.\n",
    "- Calculate differences between dates.\n",
    "- Work with time zones and durations.</p>"
   ]
  },
  {
   "cell_type": "markdown",
   "id": "ea645818-35fe-4357-87a7-78dcf1cbdaa0",
   "metadata": {},
   "source": [
    "## <span style=\"color:#ab7154;\"><b>How to Use the datetime Module</b></span>\n",
    "\n",
    "<p>Before using it, you first need to import it:</p>"
   ]
  },
  {
   "cell_type": "code",
   "execution_count": 1,
   "id": "240f1e48-5623-4ab0-83f9-519c140d2d09",
   "metadata": {},
   "outputs": [],
   "source": [
    "import datetime"
   ]
  },
  {
   "cell_type": "markdown",
   "id": "b098aa22-7e4d-44a8-96be-a1dd95033bdd",
   "metadata": {},
   "source": [
    "## <span style=\"color:#ab7154;\"><b>Get the Current Date and Time</b></span>"
   ]
  },
  {
   "cell_type": "code",
   "execution_count": 2,
   "id": "6f6e8fb9-d7e8-4582-afea-6ccb3c6555c4",
   "metadata": {},
   "outputs": [
    {
     "name": "stdout",
     "output_type": "stream",
     "text": [
      "2025-03-08 18:09:33.727603\n"
     ]
    }
   ],
   "source": [
    "import datetime\n",
    "now = datetime.datetime.now()\n",
    "print(now)"
   ]
  },
  {
   "cell_type": "markdown",
   "id": "8365f941-aba4-4a4d-b389-8e325bf7334e",
   "metadata": {},
   "source": [
    "## <span style=\"color:#ab7154;\"><b>Get the Current Date Only</b></span>"
   ]
  },
  {
   "cell_type": "code",
   "execution_count": 3,
   "id": "ad92821f-5588-447b-9863-91bbf0dcc83f",
   "metadata": {},
   "outputs": [
    {
     "name": "stdout",
     "output_type": "stream",
     "text": [
      "2025-03-08\n"
     ]
    }
   ],
   "source": [
    "today = datetime.date.today()\n",
    "print(today)"
   ]
  },
  {
   "cell_type": "markdown",
   "id": "8b2730d6-94f1-4d42-b256-c6891b0efe52",
   "metadata": {},
   "source": [
    "## <span style=\"color:#ab7154;\"><b>Creating a Custom Date</b></span>"
   ]
  },
  {
   "cell_type": "code",
   "execution_count": 4,
   "id": "eaa0e908-ab53-49b5-9d6e-bc4bdf2eeded",
   "metadata": {},
   "outputs": [
    {
     "name": "stdout",
     "output_type": "stream",
     "text": [
      "1990-05-17\n"
     ]
    }
   ],
   "source": [
    "birthday = datetime.date(1990, 5, 17)\n",
    "print(birthday)"
   ]
  },
  {
   "cell_type": "markdown",
   "id": "2bd29ab5-3f3d-4df9-a310-6a69784094e9",
   "metadata": {},
   "source": [
    "## <span style=\"color:#ab7154;\"><b>Time Delta (Differences Between Dates</b></span>"
   ]
  },
  {
   "cell_type": "code",
   "execution_count": 6,
   "id": "c1586b4e-2868-44ca-80f2-eb1dee9c67fa",
   "metadata": {},
   "outputs": [
    {
     "name": "stdout",
     "output_type": "stream",
     "text": [
      "31\n"
     ]
    }
   ],
   "source": [
    "import datetime\n",
    "date1 = datetime.date(2025, 3, 7)\n",
    "date2 = datetime.date(2025, 4, 7)\n",
    "difference = date2 - date1\n",
    "print(difference.days)"
   ]
  },
  {
   "cell_type": "markdown",
   "id": "b5c087c6-23a1-4aba-a4d5-4e9c1f4cab67",
   "metadata": {},
   "source": [
    "## <span style=\"color:#ab7154;\"><b>Formatting Dates</b></span>"
   ]
  },
  {
   "cell_type": "code",
   "execution_count": 7,
   "id": "7aedf04a-8d42-4505-91bf-c35522229a62",
   "metadata": {},
   "outputs": [
    {
     "name": "stdout",
     "output_type": "stream",
     "text": [
      "2025-03-08 18:11:28\n"
     ]
    }
   ],
   "source": [
    "now = datetime.datetime.now()\n",
    "print(now.strftime(\"%Y-%m-%d %H:%M:%S\"))"
   ]
  },
  {
   "cell_type": "markdown",
   "id": "605869c9-37b1-43d1-8948-fa92450212c6",
   "metadata": {},
   "source": [
    "## <span style=\"color:#ab7154;\"><b>Table: Common strftime Directives</b></span>"
   ]
  },
  {
   "cell_type": "markdown",
   "id": "8c45eaec-ab80-490c-ba9e-807dcb52e612",
   "metadata": {},
   "source": [
    "| **Directive** | *Description*              | *Example Output* |\n",
    "|---------------|----------------------------|------------------|\n",
    "| **%Y**       | *Year (4 digits)*          | *2025*          |\n",
    "| **%y**       | *Year (2 digits)*          | *25*            |\n",
    "| **%m**       | *Month (01-12)*            | *03*            |\n",
    "| **%d**       | *Day of the month (01-31)* | *07*            |\n",
    "| **%H**       | *Hour (00-23)*             | *15*            |\n",
    "| **%M**       | *Minute (00-59)*           | *35*            |\n",
    "| **%S**       | *Second (00-59)*           | *00*            |\n"
   ]
  },
  {
   "cell_type": "markdown",
   "id": "25f4397e-2610-4787-8e72-3f4dc117295b",
   "metadata": {},
   "source": [
    "## <span style=\"color:#ab7154;\"><b>Why Learn Date and Time?</b></span>\n",
    "\n",
    "<p>Working with dates and times is super important for:\n",
    "    \n",
    "- Logging\n",
    "- Tracking events\n",
    "- Calculations\n",
    "- Formatting output\n",
    "- Building real-world applications</p>"
   ]
  },
  {
   "cell_type": "markdown",
   "id": "01da8c56-8dfb-4cce-b90f-e8dd7e6fc465",
   "metadata": {},
   "source": [
    "## <span style=\"color:#ab7154;\"><b>Get the Current Date and Time</b></span>"
   ]
  },
  {
   "cell_type": "code",
   "execution_count": null,
   "id": "c38573b8-4abf-4ef6-8e65-58057d7e2005",
   "metadata": {},
   "outputs": [],
   "source": []
  }
 ],
 "metadata": {
  "kernelspec": {
   "display_name": "Python 3 (ipykernel)",
   "language": "python",
   "name": "python3"
  },
  "language_info": {
   "codemirror_mode": {
    "name": "ipython",
    "version": 3
   },
   "file_extension": ".py",
   "mimetype": "text/x-python",
   "name": "python",
   "nbconvert_exporter": "python",
   "pygments_lexer": "ipython3",
   "version": "3.12.7"
  }
 },
 "nbformat": 4,
 "nbformat_minor": 5
}
