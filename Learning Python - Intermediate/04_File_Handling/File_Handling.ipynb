{
 "cells": [
  {
   "cell_type": "markdown",
   "id": "71063bc4-d3a0-48c1-83ac-aae4b78456ac",
   "metadata": {},
   "source": [
    "# <span style=\"color:#4db091;\"><b>INTERMEDIATE</b> <i>- FILE HANDLING</i></span>"
   ]
  },
  {
   "cell_type": "markdown",
   "id": "ea1f88c8-1f27-4415-8ee5-8b8100bebbb5",
   "metadata": {},
   "source": [
    "## <span style=\"color:#38544a;\"><b>1. What are Data Types?</b></span>\n",
    "\n",
    "<p>Python makes it easy to work with files. You can <b>create, read, write, and delete</b> files using simple built-in functions.\n",
    "\n",
    "#### <span style=\"color:#34a0a4;\"><b><i>Opening a File</i></b></span>\n",
    "\n",
    "<p>We use the built-in <b>`open()`</b> function to open a file.</p>"
   ]
  },
  {
   "cell_type": "code",
   "execution_count": null,
   "id": "c74ca24e-2a0f-49ef-b8d9-4a8cd994b326",
   "metadata": {},
   "outputs": [],
   "source": [
    "```python\n",
    "file = open(\"filename.txt\", \"mode\")"
   ]
  },
  {
   "cell_type": "markdown",
   "id": "a8743b99-9a6c-4765-b457-70b347967e94",
   "metadata": {},
   "source": [
    "| **Mode** | *Description* |\n",
    "|----------|---------------|\n",
    "| **\"r\"** | *Read (default). Opens the file for reading. Error if file does not exist.* |\n",
    "| **\"w\"** | *Write. Creates a new file or overwrites an existing file.* |\n",
    "| **\"a\"** | *Append. Adds to the end of the file.* |\n",
    "| **\"x\"** | *Create. Creates the file, but errors if it already exists.* |\n",
    "| **\"b\"** | *Binary mode (like images).* |\n",
    "| **\"t\"** | *Text mode (default).* |\n"
   ]
  },
  {
   "cell_type": "markdown",
   "id": "235727a1-a735-476a-91d7-b563e9f9fe75",
   "metadata": {},
   "source": [
    "#### <span style=\"color:#34a0a4;\"><b><i>Reading a File</i></b></span>\n",
    "\n",
    "file = open(\"filename.txt\", \"r\")\n",
    "print(file.read())\n",
    "file.close()"
   ]
  },
  {
   "cell_type": "code",
   "execution_count": null,
   "id": "72d571d0-f20a-42dc-9fb8-cc019c9cb36a",
   "metadata": {},
   "outputs": [],
   "source": [
    "file = open(\"filename.txt\", \"r\")\n",
    "print(file.read())\n",
    "file.close()"
   ]
  },
  {
   "cell_type": "markdown",
   "id": "732bdda8-35e5-4b60-a200-8258a7572152",
   "metadata": {},
   "source": [
    "#### <span style=\"color:#34a0a4;\"><b><i>Other Reading Methods</i></b></span>"
   ]
  },
  {
   "cell_type": "markdown",
   "id": "d5994de0-52f5-4363-ab2e-ff9d6621f084",
   "metadata": {},
   "source": [
    "| **Method** | *Description* |\n",
    "|------------|---------------|\n",
    "| **.read()** | *Reads the whole file.* |\n",
    "| **.readline()** | *Reads one line at a time.* |\n",
    "| **.readlines()** | *Returns a list of lines.* |"
   ]
  },
  {
   "cell_type": "markdown",
   "id": "1b741800-b67f-4f1f-a531-6585908c31e1",
   "metadata": {},
   "source": [
    "#### <span style=\"color:#34a0a4;\"><b><i>Writing a File</i></b></span>"
   ]
  },
  {
   "cell_type": "code",
   "execution_count": null,
   "id": "9fdb6206-4d58-44a2-b6fe-8d30d1e1e5ff",
   "metadata": {},
   "outputs": [],
   "source": [
    "file = open(\"filename.txt\", \"w\")\n",
    "file.write(\"Hello, World!\")\n",
    "file.close()"
   ]
  },
  {
   "cell_type": "markdown",
   "id": "22dc054c-1693-46cb-ad6e-1b3dc23c64ba",
   "metadata": {},
   "source": [
    "#### <span style=\"color:#34a0a4;\"><b><i>Using Append Mode</i></b></span>"
   ]
  },
  {
   "cell_type": "code",
   "execution_count": null,
   "id": "8d903880-f825-419e-9ce9-049a9d0e0700",
   "metadata": {},
   "outputs": [],
   "source": [
    "file = open(\"filename.txt\", \"a\")\n",
    "file.write(\"\\nNew line added.\")\n",
    "file.close()"
   ]
  },
  {
   "cell_type": "markdown",
   "id": "a3a644f8-14ea-4e82-ba02-f20ac3bf57e7",
   "metadata": {},
   "source": [
    "#### <span style=\"color:#34a0a4;\"><b><i>Best Practice: Using with</i></b></span>\n",
    "\n",
    "<p>This automatically handles closing the file.</p>"
   ]
  },
  {
   "cell_type": "code",
   "execution_count": null,
   "id": "9cc1d467-f60e-4618-a3a6-4e859ffb69d8",
   "metadata": {},
   "outputs": [],
   "source": [
    "with open(\"filename.txt\", \"r\") as file:\n",
    "    print(file.read())"
   ]
  },
  {
   "cell_type": "markdown",
   "id": "27b85f91-4c22-41b5-82a4-9359c0fddd90",
   "metadata": {},
   "source": [
    "#### <span style=\"color:#34a0a4;\"><b><i>Deleting Files</i></b></span>\n",
    "\n",
    "<p>You need the <b>os module</b> to delete files.</p>"
   ]
  },
  {
   "cell_type": "code",
   "execution_count": null,
   "id": "7cb2628e-4a13-4660-8067-78791cfd64ea",
   "metadata": {},
   "outputs": [],
   "source": [
    "import os\n",
    "os.remove(\"filename.txt\")"
   ]
  },
  {
   "cell_type": "markdown",
   "id": "c625405d-77b6-4e83-8cd6-120bf6950fd8",
   "metadata": {},
   "source": [
    "#### <span style=\"color:#34a0a4;\"><b><i>Check if File Exists</i></b></span>"
   ]
  },
  {
   "cell_type": "code",
   "execution_count": null,
   "id": "53a21442-b29f-4cdb-aad4-eb7a543c3688",
   "metadata": {},
   "outputs": [],
   "source": [
    "import os\n",
    "if os.path.exists(\"filename.txt\"):\n",
    "    print(\"File exists!\")\n",
    "else:\n",
    "    print(\"File does not exist.\")"
   ]
  }
 ],
 "metadata": {
  "kernelspec": {
   "display_name": "Python 3 (ipykernel)",
   "language": "python",
   "name": "python3"
  },
  "language_info": {
   "codemirror_mode": {
    "name": "ipython",
    "version": 3
   },
   "file_extension": ".py",
   "mimetype": "text/x-python",
   "name": "python",
   "nbconvert_exporter": "python",
   "pygments_lexer": "ipython3",
   "version": "3.12.7"
  }
 },
 "nbformat": 4,
 "nbformat_minor": 5
}
